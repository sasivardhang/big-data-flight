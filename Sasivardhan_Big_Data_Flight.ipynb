{
  "nbformat": 4,
  "nbformat_minor": 0,
  "metadata": {
    "colab": {
      "provenance": [],
      "machine_shape": "hm"
    },
    "kernelspec": {
      "name": "python3",
      "display_name": "Python 3"
    },
    "language_info": {
      "name": "python"
    },
    "accelerator": "GPU",
    "gpuClass": "standard"
  },
  "cells": [
    {
      "cell_type": "code",
      "source": [
        "!pip install pyspark"
      ],
      "metadata": {
        "colab": {
          "base_uri": "https://localhost:8080/"
        },
        "id": "S3ILLmj5JHxs",
        "outputId": "f8e195a0-85d6-4e27-8224-ef09cbb95641"
      },
      "execution_count": 1,
      "outputs": [
        {
          "output_type": "stream",
          "name": "stdout",
          "text": [
            "Looking in indexes: https://pypi.org/simple, https://us-python.pkg.dev/colab-wheels/public/simple/\n",
            "Collecting pyspark\n",
            "  Downloading pyspark-3.3.2.tar.gz (281.4 MB)\n",
            "\u001b[2K     \u001b[90m━━━━━━━━━━━━━━━━━━━━━━━━━━━━━━━━━━━━━━━\u001b[0m \u001b[32m281.4/281.4 MB\u001b[0m \u001b[31m4.1 MB/s\u001b[0m eta \u001b[36m0:00:00\u001b[0m\n",
            "\u001b[?25h  Preparing metadata (setup.py) ... \u001b[?25l\u001b[?25hdone\n",
            "Collecting py4j==0.10.9.5\n",
            "  Downloading py4j-0.10.9.5-py2.py3-none-any.whl (199 kB)\n",
            "\u001b[2K     \u001b[90m━━━━━━━━━━━━━━━━━━━━━━━━━━━━━━━━━━━━━━\u001b[0m \u001b[32m199.7/199.7 KB\u001b[0m \u001b[31m27.5 MB/s\u001b[0m eta \u001b[36m0:00:00\u001b[0m\n",
            "\u001b[?25hBuilding wheels for collected packages: pyspark\n",
            "  Building wheel for pyspark (setup.py) ... \u001b[?25l\u001b[?25hdone\n",
            "  Created wheel for pyspark: filename=pyspark-3.3.2-py2.py3-none-any.whl size=281824028 sha256=f0e2159472ddcf6e59f305801156aae84293dc722a8e00484fc126bb693d3e36\n",
            "  Stored in directory: /root/.cache/pip/wheels/6c/e3/9b/0525ce8a69478916513509d43693511463c6468db0de237c86\n",
            "Successfully built pyspark\n",
            "Installing collected packages: py4j, pyspark\n",
            "  Attempting uninstall: py4j\n",
            "    Found existing installation: py4j 0.10.9.7\n",
            "    Uninstalling py4j-0.10.9.7:\n",
            "      Successfully uninstalled py4j-0.10.9.7\n",
            "Successfully installed py4j-0.10.9.5 pyspark-3.3.2\n"
          ]
        }
      ]
    },
    {
      "cell_type": "markdown",
      "source": [
        "## Library Import"
      ],
      "metadata": {
        "id": "C6dCyEj33ihM"
      }
    },
    {
      "cell_type": "code",
      "source": [
        "import numpy, pandas, matplotlib.pyplot as mpl, seaborn as sebor, datetime\n",
        "from sklearn import decomposition, preprocessing\n",
        "\n",
        "from pyspark import SparkContext, SparkConf\n",
        "from pyspark.sql import functions as f, SparkSession\n",
        "\n",
        "spark = SparkSession.builder.getOrCreate()\n",
        "sparkz=SparkSession.builder.appName(\"zip reader\").getOrCreate()\n",
        "\n",
        "from pyspark.sql.functions import *\n",
        "from pyspark.ml.feature import IndexToString,VectorAssembler, StringIndexer, VectorIndexer, MinMaxScaler\n",
        "from pyspark.ml.tuning import ParamGridBuilder, CrossValidator\n",
        "from pyspark.ml.pipeline import Pipeline, PipelineModel\n",
        "from pyspark.ml.classification import RandomForestClassifier, LogisticRegression, GBTClassificationModel, GBTClassifier\n",
        "from pyspark.ml.evaluation import BinaryClassificationEvaluator, MulticlassClassificationEvaluator\n",
        "from pyspark.ml.pipeline import Pipeline\n",
        "from sklearn.preprocessing import LabelEncoder\n",
        "from sklearn import decomposition, utils\n",
        "from google.colab import drive \n",
        "drive.mount('/content/drive')\n",
        "import os"
      ],
      "metadata": {
        "colab": {
          "base_uri": "https://localhost:8080/"
        },
        "id": "66Qt3HJKNJK7",
        "outputId": "66953b6c-0ac0-4803-f2cd-e1628db2b7b2"
      },
      "execution_count": 90,
      "outputs": [
        {
          "output_type": "stream",
          "name": "stdout",
          "text": [
            "Drive already mounted at /content/drive; to attempt to forcibly remount, call drive.mount(\"/content/drive\", force_remount=True).\n"
          ]
        }
      ]
    },
    {
      "cell_type": "markdown",
      "source": [
        "## Data Reading"
      ],
      "metadata": {
        "id": "oUuxRamt3luQ"
      }
    },
    {
      "cell_type": "code",
      "source": [
        "def readfromzip(pt):\n",
        "  flpt=os.path.join(pt,'flights.csv.zip')\n",
        "  fl=pandas.read_csv(flpt, compression='zip',low_memory=False)\n",
        "  print(\"Length of Data: {}\\n Features of Data: {}\".format(fl.shape[0],fl.shape[1]))\n",
        "  return fl"
      ],
      "metadata": {
        "id": "gPk8m8QXNhYR"
      },
      "execution_count": 3,
      "outputs": []
    },
    {
      "cell_type": "code",
      "source": [
        "loc='/content/drive/MyDrive/Big_Data'\n",
        "data=readfromzip(loc)\n",
        "data.head()"
      ],
      "metadata": {
        "colab": {
          "base_uri": "https://localhost:8080/",
          "height": 334
        },
        "id": "igqEdKbpOGPc",
        "outputId": "ffada549-d400-4251-a002-f5b3390fa54e"
      },
      "execution_count": 4,
      "outputs": [
        {
          "output_type": "stream",
          "name": "stdout",
          "text": [
            "Length of Data: 5819079\n",
            " Features of Data: 31\n"
          ]
        },
        {
          "output_type": "execute_result",
          "data": {
            "text/plain": [
              "   YEAR  MONTH  DAY  DAY_OF_WEEK AIRLINE  FLIGHT_NUMBER TAIL_NUMBER  \\\n",
              "0  2015      1    1            4      AS             98      N407AS   \n",
              "1  2015      1    1            4      AA           2336      N3KUAA   \n",
              "2  2015      1    1            4      US            840      N171US   \n",
              "3  2015      1    1            4      AA            258      N3HYAA   \n",
              "4  2015      1    1            4      AS            135      N527AS   \n",
              "\n",
              "  ORIGIN_AIRPORT DESTINATION_AIRPORT  SCHEDULED_DEPARTURE  ...  ARRIVAL_TIME  \\\n",
              "0            ANC                 SEA                    5  ...         408.0   \n",
              "1            LAX                 PBI                   10  ...         741.0   \n",
              "2            SFO                 CLT                   20  ...         811.0   \n",
              "3            LAX                 MIA                   20  ...         756.0   \n",
              "4            SEA                 ANC                   25  ...         259.0   \n",
              "\n",
              "   ARRIVAL_DELAY  DIVERTED  CANCELLED  CANCELLATION_REASON  AIR_SYSTEM_DELAY  \\\n",
              "0          -22.0         0          0                  NaN               NaN   \n",
              "1           -9.0         0          0                  NaN               NaN   \n",
              "2            5.0         0          0                  NaN               NaN   \n",
              "3           -9.0         0          0                  NaN               NaN   \n",
              "4          -21.0         0          0                  NaN               NaN   \n",
              "\n",
              "   SECURITY_DELAY  AIRLINE_DELAY  LATE_AIRCRAFT_DELAY  WEATHER_DELAY  \n",
              "0             NaN            NaN                  NaN            NaN  \n",
              "1             NaN            NaN                  NaN            NaN  \n",
              "2             NaN            NaN                  NaN            NaN  \n",
              "3             NaN            NaN                  NaN            NaN  \n",
              "4             NaN            NaN                  NaN            NaN  \n",
              "\n",
              "[5 rows x 31 columns]"
            ],
            "text/html": [
              "\n",
              "  <div id=\"df-d13f8f49-7219-43be-82bb-c34ad00c3aa6\">\n",
              "    <div class=\"colab-df-container\">\n",
              "      <div>\n",
              "<style scoped>\n",
              "    .dataframe tbody tr th:only-of-type {\n",
              "        vertical-align: middle;\n",
              "    }\n",
              "\n",
              "    .dataframe tbody tr th {\n",
              "        vertical-align: top;\n",
              "    }\n",
              "\n",
              "    .dataframe thead th {\n",
              "        text-align: right;\n",
              "    }\n",
              "</style>\n",
              "<table border=\"1\" class=\"dataframe\">\n",
              "  <thead>\n",
              "    <tr style=\"text-align: right;\">\n",
              "      <th></th>\n",
              "      <th>YEAR</th>\n",
              "      <th>MONTH</th>\n",
              "      <th>DAY</th>\n",
              "      <th>DAY_OF_WEEK</th>\n",
              "      <th>AIRLINE</th>\n",
              "      <th>FLIGHT_NUMBER</th>\n",
              "      <th>TAIL_NUMBER</th>\n",
              "      <th>ORIGIN_AIRPORT</th>\n",
              "      <th>DESTINATION_AIRPORT</th>\n",
              "      <th>SCHEDULED_DEPARTURE</th>\n",
              "      <th>...</th>\n",
              "      <th>ARRIVAL_TIME</th>\n",
              "      <th>ARRIVAL_DELAY</th>\n",
              "      <th>DIVERTED</th>\n",
              "      <th>CANCELLED</th>\n",
              "      <th>CANCELLATION_REASON</th>\n",
              "      <th>AIR_SYSTEM_DELAY</th>\n",
              "      <th>SECURITY_DELAY</th>\n",
              "      <th>AIRLINE_DELAY</th>\n",
              "      <th>LATE_AIRCRAFT_DELAY</th>\n",
              "      <th>WEATHER_DELAY</th>\n",
              "    </tr>\n",
              "  </thead>\n",
              "  <tbody>\n",
              "    <tr>\n",
              "      <th>0</th>\n",
              "      <td>2015</td>\n",
              "      <td>1</td>\n",
              "      <td>1</td>\n",
              "      <td>4</td>\n",
              "      <td>AS</td>\n",
              "      <td>98</td>\n",
              "      <td>N407AS</td>\n",
              "      <td>ANC</td>\n",
              "      <td>SEA</td>\n",
              "      <td>5</td>\n",
              "      <td>...</td>\n",
              "      <td>408.0</td>\n",
              "      <td>-22.0</td>\n",
              "      <td>0</td>\n",
              "      <td>0</td>\n",
              "      <td>NaN</td>\n",
              "      <td>NaN</td>\n",
              "      <td>NaN</td>\n",
              "      <td>NaN</td>\n",
              "      <td>NaN</td>\n",
              "      <td>NaN</td>\n",
              "    </tr>\n",
              "    <tr>\n",
              "      <th>1</th>\n",
              "      <td>2015</td>\n",
              "      <td>1</td>\n",
              "      <td>1</td>\n",
              "      <td>4</td>\n",
              "      <td>AA</td>\n",
              "      <td>2336</td>\n",
              "      <td>N3KUAA</td>\n",
              "      <td>LAX</td>\n",
              "      <td>PBI</td>\n",
              "      <td>10</td>\n",
              "      <td>...</td>\n",
              "      <td>741.0</td>\n",
              "      <td>-9.0</td>\n",
              "      <td>0</td>\n",
              "      <td>0</td>\n",
              "      <td>NaN</td>\n",
              "      <td>NaN</td>\n",
              "      <td>NaN</td>\n",
              "      <td>NaN</td>\n",
              "      <td>NaN</td>\n",
              "      <td>NaN</td>\n",
              "    </tr>\n",
              "    <tr>\n",
              "      <th>2</th>\n",
              "      <td>2015</td>\n",
              "      <td>1</td>\n",
              "      <td>1</td>\n",
              "      <td>4</td>\n",
              "      <td>US</td>\n",
              "      <td>840</td>\n",
              "      <td>N171US</td>\n",
              "      <td>SFO</td>\n",
              "      <td>CLT</td>\n",
              "      <td>20</td>\n",
              "      <td>...</td>\n",
              "      <td>811.0</td>\n",
              "      <td>5.0</td>\n",
              "      <td>0</td>\n",
              "      <td>0</td>\n",
              "      <td>NaN</td>\n",
              "      <td>NaN</td>\n",
              "      <td>NaN</td>\n",
              "      <td>NaN</td>\n",
              "      <td>NaN</td>\n",
              "      <td>NaN</td>\n",
              "    </tr>\n",
              "    <tr>\n",
              "      <th>3</th>\n",
              "      <td>2015</td>\n",
              "      <td>1</td>\n",
              "      <td>1</td>\n",
              "      <td>4</td>\n",
              "      <td>AA</td>\n",
              "      <td>258</td>\n",
              "      <td>N3HYAA</td>\n",
              "      <td>LAX</td>\n",
              "      <td>MIA</td>\n",
              "      <td>20</td>\n",
              "      <td>...</td>\n",
              "      <td>756.0</td>\n",
              "      <td>-9.0</td>\n",
              "      <td>0</td>\n",
              "      <td>0</td>\n",
              "      <td>NaN</td>\n",
              "      <td>NaN</td>\n",
              "      <td>NaN</td>\n",
              "      <td>NaN</td>\n",
              "      <td>NaN</td>\n",
              "      <td>NaN</td>\n",
              "    </tr>\n",
              "    <tr>\n",
              "      <th>4</th>\n",
              "      <td>2015</td>\n",
              "      <td>1</td>\n",
              "      <td>1</td>\n",
              "      <td>4</td>\n",
              "      <td>AS</td>\n",
              "      <td>135</td>\n",
              "      <td>N527AS</td>\n",
              "      <td>SEA</td>\n",
              "      <td>ANC</td>\n",
              "      <td>25</td>\n",
              "      <td>...</td>\n",
              "      <td>259.0</td>\n",
              "      <td>-21.0</td>\n",
              "      <td>0</td>\n",
              "      <td>0</td>\n",
              "      <td>NaN</td>\n",
              "      <td>NaN</td>\n",
              "      <td>NaN</td>\n",
              "      <td>NaN</td>\n",
              "      <td>NaN</td>\n",
              "      <td>NaN</td>\n",
              "    </tr>\n",
              "  </tbody>\n",
              "</table>\n",
              "<p>5 rows × 31 columns</p>\n",
              "</div>\n",
              "      <button class=\"colab-df-convert\" onclick=\"convertToInteractive('df-d13f8f49-7219-43be-82bb-c34ad00c3aa6')\"\n",
              "              title=\"Convert this dataframe to an interactive table.\"\n",
              "              style=\"display:none;\">\n",
              "        \n",
              "  <svg xmlns=\"http://www.w3.org/2000/svg\" height=\"24px\"viewBox=\"0 0 24 24\"\n",
              "       width=\"24px\">\n",
              "    <path d=\"M0 0h24v24H0V0z\" fill=\"none\"/>\n",
              "    <path d=\"M18.56 5.44l.94 2.06.94-2.06 2.06-.94-2.06-.94-.94-2.06-.94 2.06-2.06.94zm-11 1L8.5 8.5l.94-2.06 2.06-.94-2.06-.94L8.5 2.5l-.94 2.06-2.06.94zm10 10l.94 2.06.94-2.06 2.06-.94-2.06-.94-.94-2.06-.94 2.06-2.06.94z\"/><path d=\"M17.41 7.96l-1.37-1.37c-.4-.4-.92-.59-1.43-.59-.52 0-1.04.2-1.43.59L10.3 9.45l-7.72 7.72c-.78.78-.78 2.05 0 2.83L4 21.41c.39.39.9.59 1.41.59.51 0 1.02-.2 1.41-.59l7.78-7.78 2.81-2.81c.8-.78.8-2.07 0-2.86zM5.41 20L4 18.59l7.72-7.72 1.47 1.35L5.41 20z\"/>\n",
              "  </svg>\n",
              "      </button>\n",
              "      \n",
              "  <style>\n",
              "    .colab-df-container {\n",
              "      display:flex;\n",
              "      flex-wrap:wrap;\n",
              "      gap: 12px;\n",
              "    }\n",
              "\n",
              "    .colab-df-convert {\n",
              "      background-color: #E8F0FE;\n",
              "      border: none;\n",
              "      border-radius: 50%;\n",
              "      cursor: pointer;\n",
              "      display: none;\n",
              "      fill: #1967D2;\n",
              "      height: 32px;\n",
              "      padding: 0 0 0 0;\n",
              "      width: 32px;\n",
              "    }\n",
              "\n",
              "    .colab-df-convert:hover {\n",
              "      background-color: #E2EBFA;\n",
              "      box-shadow: 0px 1px 2px rgba(60, 64, 67, 0.3), 0px 1px 3px 1px rgba(60, 64, 67, 0.15);\n",
              "      fill: #174EA6;\n",
              "    }\n",
              "\n",
              "    [theme=dark] .colab-df-convert {\n",
              "      background-color: #3B4455;\n",
              "      fill: #D2E3FC;\n",
              "    }\n",
              "\n",
              "    [theme=dark] .colab-df-convert:hover {\n",
              "      background-color: #434B5C;\n",
              "      box-shadow: 0px 1px 3px 1px rgba(0, 0, 0, 0.15);\n",
              "      filter: drop-shadow(0px 1px 2px rgba(0, 0, 0, 0.3));\n",
              "      fill: #FFFFFF;\n",
              "    }\n",
              "  </style>\n",
              "\n",
              "      <script>\n",
              "        const buttonEl =\n",
              "          document.querySelector('#df-d13f8f49-7219-43be-82bb-c34ad00c3aa6 button.colab-df-convert');\n",
              "        buttonEl.style.display =\n",
              "          google.colab.kernel.accessAllowed ? 'block' : 'none';\n",
              "\n",
              "        async function convertToInteractive(key) {\n",
              "          const element = document.querySelector('#df-d13f8f49-7219-43be-82bb-c34ad00c3aa6');\n",
              "          const dataTable =\n",
              "            await google.colab.kernel.invokeFunction('convertToInteractive',\n",
              "                                                     [key], {});\n",
              "          if (!dataTable) return;\n",
              "\n",
              "          const docLinkHtml = 'Like what you see? Visit the ' +\n",
              "            '<a target=\"_blank\" href=https://colab.research.google.com/notebooks/data_table.ipynb>data table notebook</a>'\n",
              "            + ' to learn more about interactive tables.';\n",
              "          element.innerHTML = '';\n",
              "          dataTable['output_type'] = 'display_data';\n",
              "          await google.colab.output.renderOutput(dataTable, element);\n",
              "          const docLink = document.createElement('div');\n",
              "          docLink.innerHTML = docLinkHtml;\n",
              "          element.appendChild(docLink);\n",
              "        }\n",
              "      </script>\n",
              "    </div>\n",
              "  </div>\n",
              "  "
            ]
          },
          "metadata": {},
          "execution_count": 4
        }
      ]
    },
    {
      "cell_type": "markdown",
      "source": [
        "## Data Preprocesing"
      ],
      "metadata": {
        "id": "kuaWOhRA3ood"
      }
    },
    {
      "cell_type": "markdown",
      "source": [
        "### Data Cleaning"
      ],
      "metadata": {
        "id": "NVuoqTvz3rNa"
      }
    },
    {
      "cell_type": "code",
      "source": [
        "def cleandata(fl):\n",
        "  fl1=fl.copy()\n",
        "  ctfl=fl1.dtypes[fl1.dtypes=='object'].index.tolist()\n",
        "  nmfl=fl1.dtypes[fl1.dtypes!='object'].index.tolist()\n",
        "  for c in ctfl:\n",
        "    fl1[c]=fl1[c].fillna(fl1[c].mode()[0])\n",
        "  for n in nmfl:\n",
        "    fl1[n]=fl1[n].fillna(fl1[n].mean())\n",
        "  print(\"\\nMissing Values: \\n\")\n",
        "  alms1=fl1.isna().sum()\n",
        "  print(alms1)\n",
        "  sm1=0\n",
        "  for m1 in alms1.tolist():\n",
        "    sm1+=m1\n",
        "  print(\"\\nTotal Missing Values (After Data Cleaning): \",sm1)\n",
        "  return fl1\n"
      ],
      "metadata": {
        "id": "kqGDuFNIOGfE"
      },
      "execution_count": 5,
      "outputs": []
    },
    {
      "cell_type": "code",
      "source": [
        "def featureinfo(fl):\n",
        "  print(\"Feature Information: \\n\")\n",
        "  print(fl.info())\n",
        "  print(\"\\nFeature Statistics: \\n\")\n",
        "  print(fl.describe())\n",
        "  print(\"\\nMissing Values: \\n\")\n",
        "  alms=fl.isna().sum()\n",
        "  print(fl.isna().sum())\n",
        "  sm=0\n",
        "  for m in alms.tolist():\n",
        "    sm+=m\n",
        "  print(\"\\nTotal Missing Values (Before Cleaning Data): \",sm)\n",
        "  if sm>0:\n",
        "    print(\"Missing Values Present in Data..\")\n",
        "    fl1=cleandata(fl)\n",
        "    return fl1\n",
        "  else:\n",
        "    return fl"
      ],
      "metadata": {
        "id": "RDuaVa_OOGW1"
      },
      "execution_count": 6,
      "outputs": []
    },
    {
      "cell_type": "code",
      "source": [
        "cln_data=featureinfo(data)"
      ],
      "metadata": {
        "colab": {
          "base_uri": "https://localhost:8080/"
        },
        "id": "Rh7QNFM6OGZY",
        "outputId": "bd00f9e9-bda0-448d-d5d8-5a6b30c5961f"
      },
      "execution_count": 7,
      "outputs": [
        {
          "output_type": "stream",
          "name": "stdout",
          "text": [
            "Feature Information: \n",
            "\n",
            "<class 'pandas.core.frame.DataFrame'>\n",
            "RangeIndex: 5819079 entries, 0 to 5819078\n",
            "Data columns (total 31 columns):\n",
            " #   Column               Dtype  \n",
            "---  ------               -----  \n",
            " 0   YEAR                 int64  \n",
            " 1   MONTH                int64  \n",
            " 2   DAY                  int64  \n",
            " 3   DAY_OF_WEEK          int64  \n",
            " 4   AIRLINE              object \n",
            " 5   FLIGHT_NUMBER        int64  \n",
            " 6   TAIL_NUMBER          object \n",
            " 7   ORIGIN_AIRPORT       object \n",
            " 8   DESTINATION_AIRPORT  object \n",
            " 9   SCHEDULED_DEPARTURE  int64  \n",
            " 10  DEPARTURE_TIME       float64\n",
            " 11  DEPARTURE_DELAY      float64\n",
            " 12  TAXI_OUT             float64\n",
            " 13  WHEELS_OFF           float64\n",
            " 14  SCHEDULED_TIME       float64\n",
            " 15  ELAPSED_TIME         float64\n",
            " 16  AIR_TIME             float64\n",
            " 17  DISTANCE             int64  \n",
            " 18  WHEELS_ON            float64\n",
            " 19  TAXI_IN              float64\n",
            " 20  SCHEDULED_ARRIVAL    int64  \n",
            " 21  ARRIVAL_TIME         float64\n",
            " 22  ARRIVAL_DELAY        float64\n",
            " 23  DIVERTED             int64  \n",
            " 24  CANCELLED            int64  \n",
            " 25  CANCELLATION_REASON  object \n",
            " 26  AIR_SYSTEM_DELAY     float64\n",
            " 27  SECURITY_DELAY       float64\n",
            " 28  AIRLINE_DELAY        float64\n",
            " 29  LATE_AIRCRAFT_DELAY  float64\n",
            " 30  WEATHER_DELAY        float64\n",
            "dtypes: float64(16), int64(10), object(5)\n",
            "memory usage: 1.3+ GB\n",
            "None\n",
            "\n",
            "Feature Statistics: \n",
            "\n",
            "            YEAR         MONTH           DAY   DAY_OF_WEEK  FLIGHT_NUMBER  \\\n",
            "count  5819079.0  5.819079e+06  5.819079e+06  5.819079e+06   5.819079e+06   \n",
            "mean      2015.0  6.524085e+00  1.570459e+01  3.926941e+00   2.173093e+03   \n",
            "std          0.0  3.405137e+00  8.783425e+00  1.988845e+00   1.757064e+03   \n",
            "min       2015.0  1.000000e+00  1.000000e+00  1.000000e+00   1.000000e+00   \n",
            "25%       2015.0  4.000000e+00  8.000000e+00  2.000000e+00   7.300000e+02   \n",
            "50%       2015.0  7.000000e+00  1.600000e+01  4.000000e+00   1.690000e+03   \n",
            "75%       2015.0  9.000000e+00  2.300000e+01  6.000000e+00   3.230000e+03   \n",
            "max       2015.0  1.200000e+01  3.100000e+01  7.000000e+00   9.855000e+03   \n",
            "\n",
            "       SCHEDULED_DEPARTURE  DEPARTURE_TIME  DEPARTURE_DELAY      TAXI_OUT  \\\n",
            "count         5.819079e+06    5.732926e+06     5.732926e+06  5.730032e+06   \n",
            "mean          1.329602e+03    1.335204e+03     9.370158e+00  1.607166e+01   \n",
            "std           4.837518e+02    4.964233e+02     3.708094e+01  8.895574e+00   \n",
            "min           1.000000e+00    1.000000e+00    -8.200000e+01  1.000000e+00   \n",
            "25%           9.170000e+02    9.210000e+02    -5.000000e+00  1.100000e+01   \n",
            "50%           1.325000e+03    1.330000e+03    -2.000000e+00  1.400000e+01   \n",
            "75%           1.730000e+03    1.740000e+03     7.000000e+00  1.900000e+01   \n",
            "max           2.359000e+03    2.400000e+03     1.988000e+03  2.250000e+02   \n",
            "\n",
            "         WHEELS_OFF  ...  SCHEDULED_ARRIVAL  ARRIVAL_TIME  ARRIVAL_DELAY  \\\n",
            "count  5.730032e+06  ...       5.819079e+06  5.726566e+06   5.714008e+06   \n",
            "mean   1.357171e+03  ...       1.493808e+03  1.476491e+03   4.407057e+00   \n",
            "std    4.980094e+02  ...       5.071647e+02  5.263197e+02   3.927130e+01   \n",
            "min    1.000000e+00  ...       1.000000e+00  1.000000e+00  -8.700000e+01   \n",
            "25%    9.350000e+02  ...       1.110000e+03  1.059000e+03  -1.300000e+01   \n",
            "50%    1.343000e+03  ...       1.520000e+03  1.512000e+03  -5.000000e+00   \n",
            "75%    1.754000e+03  ...       1.918000e+03  1.917000e+03   8.000000e+00   \n",
            "max    2.400000e+03  ...       2.400000e+03  2.400000e+03   1.971000e+03   \n",
            "\n",
            "           DIVERTED     CANCELLED  AIR_SYSTEM_DELAY  SECURITY_DELAY  \\\n",
            "count  5.819079e+06  5.819079e+06      1.063439e+06    1.063439e+06   \n",
            "mean   2.609863e-03  1.544643e-02      1.348057e+01    7.615387e-02   \n",
            "std    5.102012e-02  1.233201e-01      2.800368e+01    2.143460e+00   \n",
            "min    0.000000e+00  0.000000e+00      0.000000e+00    0.000000e+00   \n",
            "25%    0.000000e+00  0.000000e+00      0.000000e+00    0.000000e+00   \n",
            "50%    0.000000e+00  0.000000e+00      2.000000e+00    0.000000e+00   \n",
            "75%    0.000000e+00  0.000000e+00      1.800000e+01    0.000000e+00   \n",
            "max    1.000000e+00  1.000000e+00      1.134000e+03    5.730000e+02   \n",
            "\n",
            "       AIRLINE_DELAY  LATE_AIRCRAFT_DELAY  WEATHER_DELAY  \n",
            "count   1.063439e+06         1.063439e+06   1.063439e+06  \n",
            "mean    1.896955e+01         2.347284e+01   2.915290e+00  \n",
            "std     4.816164e+01         4.319702e+01   2.043334e+01  \n",
            "min     0.000000e+00         0.000000e+00   0.000000e+00  \n",
            "25%     0.000000e+00         0.000000e+00   0.000000e+00  \n",
            "50%     2.000000e+00         3.000000e+00   0.000000e+00  \n",
            "75%     1.900000e+01         2.900000e+01   0.000000e+00  \n",
            "max     1.971000e+03         1.331000e+03   1.211000e+03  \n",
            "\n",
            "[8 rows x 26 columns]\n",
            "\n",
            "Missing Values: \n",
            "\n",
            "YEAR                         0\n",
            "MONTH                        0\n",
            "DAY                          0\n",
            "DAY_OF_WEEK                  0\n",
            "AIRLINE                      0\n",
            "FLIGHT_NUMBER                0\n",
            "TAIL_NUMBER              14721\n",
            "ORIGIN_AIRPORT               0\n",
            "DESTINATION_AIRPORT          0\n",
            "SCHEDULED_DEPARTURE          0\n",
            "DEPARTURE_TIME           86153\n",
            "DEPARTURE_DELAY          86153\n",
            "TAXI_OUT                 89047\n",
            "WHEELS_OFF               89047\n",
            "SCHEDULED_TIME               6\n",
            "ELAPSED_TIME            105071\n",
            "AIR_TIME                105071\n",
            "DISTANCE                     0\n",
            "WHEELS_ON                92513\n",
            "TAXI_IN                  92513\n",
            "SCHEDULED_ARRIVAL            0\n",
            "ARRIVAL_TIME             92513\n",
            "ARRIVAL_DELAY           105071\n",
            "DIVERTED                     0\n",
            "CANCELLED                    0\n",
            "CANCELLATION_REASON    5729195\n",
            "AIR_SYSTEM_DELAY       4755640\n",
            "SECURITY_DELAY         4755640\n",
            "AIRLINE_DELAY          4755640\n",
            "LATE_AIRCRAFT_DELAY    4755640\n",
            "WEATHER_DELAY          4755640\n",
            "dtype: int64\n",
            "\n",
            "Total Missing Values (Before Cleaning Data):  30465274\n",
            "Missing Values Present in Data..\n",
            "\n",
            "Missing Values: \n",
            "\n",
            "YEAR                   0\n",
            "MONTH                  0\n",
            "DAY                    0\n",
            "DAY_OF_WEEK            0\n",
            "AIRLINE                0\n",
            "FLIGHT_NUMBER          0\n",
            "TAIL_NUMBER            0\n",
            "ORIGIN_AIRPORT         0\n",
            "DESTINATION_AIRPORT    0\n",
            "SCHEDULED_DEPARTURE    0\n",
            "DEPARTURE_TIME         0\n",
            "DEPARTURE_DELAY        0\n",
            "TAXI_OUT               0\n",
            "WHEELS_OFF             0\n",
            "SCHEDULED_TIME         0\n",
            "ELAPSED_TIME           0\n",
            "AIR_TIME               0\n",
            "DISTANCE               0\n",
            "WHEELS_ON              0\n",
            "TAXI_IN                0\n",
            "SCHEDULED_ARRIVAL      0\n",
            "ARRIVAL_TIME           0\n",
            "ARRIVAL_DELAY          0\n",
            "DIVERTED               0\n",
            "CANCELLED              0\n",
            "CANCELLATION_REASON    0\n",
            "AIR_SYSTEM_DELAY       0\n",
            "SECURITY_DELAY         0\n",
            "AIRLINE_DELAY          0\n",
            "LATE_AIRCRAFT_DELAY    0\n",
            "WEATHER_DELAY          0\n",
            "dtype: int64\n",
            "\n",
            "Total Missing Values (After Data Cleaning):  0\n"
          ]
        }
      ]
    },
    {
      "cell_type": "markdown",
      "source": [
        "### Feature Encoding"
      ],
      "metadata": {
        "id": "XylVPW_e37Dv"
      }
    },
    {
      "cell_type": "code",
      "source": [
        "def fetencode(fl1):\n",
        "  fl=fl1.copy()\n",
        "  ctdt=fl.dtypes[fl.dtypes=='object'].index.tolist()\n",
        "  nmdt=fl.dtypes[fl.dtypes!='object'].index.tolist()\n",
        "  le=LabelEncoder()\n",
        "  fl[ctdt] = fl[ctdt].apply(le.fit_transform)\n",
        "  return fl\n"
      ],
      "metadata": {
        "id": "ypzoosPf37S-"
      },
      "execution_count": 8,
      "outputs": []
    },
    {
      "cell_type": "code",
      "source": [
        "le_data=fetencode(cln_data)\n",
        "le_data.head()"
      ],
      "metadata": {
        "colab": {
          "base_uri": "https://localhost:8080/",
          "height": 299
        },
        "id": "Z5b7eTYi37ai",
        "outputId": "3826b063-3c3b-4a87-fa8c-d0ca595bcbc3"
      },
      "execution_count": 9,
      "outputs": [
        {
          "output_type": "execute_result",
          "data": {
            "text/plain": [
              "   YEAR  MONTH  DAY  DAY_OF_WEEK  AIRLINE  FLIGHT_NUMBER  TAIL_NUMBER  \\\n",
              "0  2015      1    1            4        1             98         1622   \n",
              "1  2015      1    1            4        0           2336         1556   \n",
              "2  2015      1    1            4       11            840          421   \n",
              "3  2015      1    1            4        0            258         1516   \n",
              "4  2015      1    1            4        1            135         2131   \n",
              "\n",
              "   ORIGIN_AIRPORT  DESTINATION_AIRPORT  SCHEDULED_DEPARTURE  ...  \\\n",
              "0             323                  584                    5  ...   \n",
              "1             482                  542                   10  ...   \n",
              "2             584                  373                   20  ...   \n",
              "3             482                  510                   20  ...   \n",
              "4             583                  324                   25  ...   \n",
              "\n",
              "   ARRIVAL_TIME  ARRIVAL_DELAY  DIVERTED  CANCELLED  CANCELLATION_REASON  \\\n",
              "0         408.0          -22.0         0          0                    1   \n",
              "1         741.0           -9.0         0          0                    1   \n",
              "2         811.0            5.0         0          0                    1   \n",
              "3         756.0           -9.0         0          0                    1   \n",
              "4         259.0          -21.0         0          0                    1   \n",
              "\n",
              "   AIR_SYSTEM_DELAY  SECURITY_DELAY  AIRLINE_DELAY  LATE_AIRCRAFT_DELAY  \\\n",
              "0         13.480568        0.076154      18.969547            23.472838   \n",
              "1         13.480568        0.076154      18.969547            23.472838   \n",
              "2         13.480568        0.076154      18.969547            23.472838   \n",
              "3         13.480568        0.076154      18.969547            23.472838   \n",
              "4         13.480568        0.076154      18.969547            23.472838   \n",
              "\n",
              "   WEATHER_DELAY  \n",
              "0        2.91529  \n",
              "1        2.91529  \n",
              "2        2.91529  \n",
              "3        2.91529  \n",
              "4        2.91529  \n",
              "\n",
              "[5 rows x 31 columns]"
            ],
            "text/html": [
              "\n",
              "  <div id=\"df-7eec1a0d-234f-4363-b7cb-1a881cd16777\">\n",
              "    <div class=\"colab-df-container\">\n",
              "      <div>\n",
              "<style scoped>\n",
              "    .dataframe tbody tr th:only-of-type {\n",
              "        vertical-align: middle;\n",
              "    }\n",
              "\n",
              "    .dataframe tbody tr th {\n",
              "        vertical-align: top;\n",
              "    }\n",
              "\n",
              "    .dataframe thead th {\n",
              "        text-align: right;\n",
              "    }\n",
              "</style>\n",
              "<table border=\"1\" class=\"dataframe\">\n",
              "  <thead>\n",
              "    <tr style=\"text-align: right;\">\n",
              "      <th></th>\n",
              "      <th>YEAR</th>\n",
              "      <th>MONTH</th>\n",
              "      <th>DAY</th>\n",
              "      <th>DAY_OF_WEEK</th>\n",
              "      <th>AIRLINE</th>\n",
              "      <th>FLIGHT_NUMBER</th>\n",
              "      <th>TAIL_NUMBER</th>\n",
              "      <th>ORIGIN_AIRPORT</th>\n",
              "      <th>DESTINATION_AIRPORT</th>\n",
              "      <th>SCHEDULED_DEPARTURE</th>\n",
              "      <th>...</th>\n",
              "      <th>ARRIVAL_TIME</th>\n",
              "      <th>ARRIVAL_DELAY</th>\n",
              "      <th>DIVERTED</th>\n",
              "      <th>CANCELLED</th>\n",
              "      <th>CANCELLATION_REASON</th>\n",
              "      <th>AIR_SYSTEM_DELAY</th>\n",
              "      <th>SECURITY_DELAY</th>\n",
              "      <th>AIRLINE_DELAY</th>\n",
              "      <th>LATE_AIRCRAFT_DELAY</th>\n",
              "      <th>WEATHER_DELAY</th>\n",
              "    </tr>\n",
              "  </thead>\n",
              "  <tbody>\n",
              "    <tr>\n",
              "      <th>0</th>\n",
              "      <td>2015</td>\n",
              "      <td>1</td>\n",
              "      <td>1</td>\n",
              "      <td>4</td>\n",
              "      <td>1</td>\n",
              "      <td>98</td>\n",
              "      <td>1622</td>\n",
              "      <td>323</td>\n",
              "      <td>584</td>\n",
              "      <td>5</td>\n",
              "      <td>...</td>\n",
              "      <td>408.0</td>\n",
              "      <td>-22.0</td>\n",
              "      <td>0</td>\n",
              "      <td>0</td>\n",
              "      <td>1</td>\n",
              "      <td>13.480568</td>\n",
              "      <td>0.076154</td>\n",
              "      <td>18.969547</td>\n",
              "      <td>23.472838</td>\n",
              "      <td>2.91529</td>\n",
              "    </tr>\n",
              "    <tr>\n",
              "      <th>1</th>\n",
              "      <td>2015</td>\n",
              "      <td>1</td>\n",
              "      <td>1</td>\n",
              "      <td>4</td>\n",
              "      <td>0</td>\n",
              "      <td>2336</td>\n",
              "      <td>1556</td>\n",
              "      <td>482</td>\n",
              "      <td>542</td>\n",
              "      <td>10</td>\n",
              "      <td>...</td>\n",
              "      <td>741.0</td>\n",
              "      <td>-9.0</td>\n",
              "      <td>0</td>\n",
              "      <td>0</td>\n",
              "      <td>1</td>\n",
              "      <td>13.480568</td>\n",
              "      <td>0.076154</td>\n",
              "      <td>18.969547</td>\n",
              "      <td>23.472838</td>\n",
              "      <td>2.91529</td>\n",
              "    </tr>\n",
              "    <tr>\n",
              "      <th>2</th>\n",
              "      <td>2015</td>\n",
              "      <td>1</td>\n",
              "      <td>1</td>\n",
              "      <td>4</td>\n",
              "      <td>11</td>\n",
              "      <td>840</td>\n",
              "      <td>421</td>\n",
              "      <td>584</td>\n",
              "      <td>373</td>\n",
              "      <td>20</td>\n",
              "      <td>...</td>\n",
              "      <td>811.0</td>\n",
              "      <td>5.0</td>\n",
              "      <td>0</td>\n",
              "      <td>0</td>\n",
              "      <td>1</td>\n",
              "      <td>13.480568</td>\n",
              "      <td>0.076154</td>\n",
              "      <td>18.969547</td>\n",
              "      <td>23.472838</td>\n",
              "      <td>2.91529</td>\n",
              "    </tr>\n",
              "    <tr>\n",
              "      <th>3</th>\n",
              "      <td>2015</td>\n",
              "      <td>1</td>\n",
              "      <td>1</td>\n",
              "      <td>4</td>\n",
              "      <td>0</td>\n",
              "      <td>258</td>\n",
              "      <td>1516</td>\n",
              "      <td>482</td>\n",
              "      <td>510</td>\n",
              "      <td>20</td>\n",
              "      <td>...</td>\n",
              "      <td>756.0</td>\n",
              "      <td>-9.0</td>\n",
              "      <td>0</td>\n",
              "      <td>0</td>\n",
              "      <td>1</td>\n",
              "      <td>13.480568</td>\n",
              "      <td>0.076154</td>\n",
              "      <td>18.969547</td>\n",
              "      <td>23.472838</td>\n",
              "      <td>2.91529</td>\n",
              "    </tr>\n",
              "    <tr>\n",
              "      <th>4</th>\n",
              "      <td>2015</td>\n",
              "      <td>1</td>\n",
              "      <td>1</td>\n",
              "      <td>4</td>\n",
              "      <td>1</td>\n",
              "      <td>135</td>\n",
              "      <td>2131</td>\n",
              "      <td>583</td>\n",
              "      <td>324</td>\n",
              "      <td>25</td>\n",
              "      <td>...</td>\n",
              "      <td>259.0</td>\n",
              "      <td>-21.0</td>\n",
              "      <td>0</td>\n",
              "      <td>0</td>\n",
              "      <td>1</td>\n",
              "      <td>13.480568</td>\n",
              "      <td>0.076154</td>\n",
              "      <td>18.969547</td>\n",
              "      <td>23.472838</td>\n",
              "      <td>2.91529</td>\n",
              "    </tr>\n",
              "  </tbody>\n",
              "</table>\n",
              "<p>5 rows × 31 columns</p>\n",
              "</div>\n",
              "      <button class=\"colab-df-convert\" onclick=\"convertToInteractive('df-7eec1a0d-234f-4363-b7cb-1a881cd16777')\"\n",
              "              title=\"Convert this dataframe to an interactive table.\"\n",
              "              style=\"display:none;\">\n",
              "        \n",
              "  <svg xmlns=\"http://www.w3.org/2000/svg\" height=\"24px\"viewBox=\"0 0 24 24\"\n",
              "       width=\"24px\">\n",
              "    <path d=\"M0 0h24v24H0V0z\" fill=\"none\"/>\n",
              "    <path d=\"M18.56 5.44l.94 2.06.94-2.06 2.06-.94-2.06-.94-.94-2.06-.94 2.06-2.06.94zm-11 1L8.5 8.5l.94-2.06 2.06-.94-2.06-.94L8.5 2.5l-.94 2.06-2.06.94zm10 10l.94 2.06.94-2.06 2.06-.94-2.06-.94-.94-2.06-.94 2.06-2.06.94z\"/><path d=\"M17.41 7.96l-1.37-1.37c-.4-.4-.92-.59-1.43-.59-.52 0-1.04.2-1.43.59L10.3 9.45l-7.72 7.72c-.78.78-.78 2.05 0 2.83L4 21.41c.39.39.9.59 1.41.59.51 0 1.02-.2 1.41-.59l7.78-7.78 2.81-2.81c.8-.78.8-2.07 0-2.86zM5.41 20L4 18.59l7.72-7.72 1.47 1.35L5.41 20z\"/>\n",
              "  </svg>\n",
              "      </button>\n",
              "      \n",
              "  <style>\n",
              "    .colab-df-container {\n",
              "      display:flex;\n",
              "      flex-wrap:wrap;\n",
              "      gap: 12px;\n",
              "    }\n",
              "\n",
              "    .colab-df-convert {\n",
              "      background-color: #E8F0FE;\n",
              "      border: none;\n",
              "      border-radius: 50%;\n",
              "      cursor: pointer;\n",
              "      display: none;\n",
              "      fill: #1967D2;\n",
              "      height: 32px;\n",
              "      padding: 0 0 0 0;\n",
              "      width: 32px;\n",
              "    }\n",
              "\n",
              "    .colab-df-convert:hover {\n",
              "      background-color: #E2EBFA;\n",
              "      box-shadow: 0px 1px 2px rgba(60, 64, 67, 0.3), 0px 1px 3px 1px rgba(60, 64, 67, 0.15);\n",
              "      fill: #174EA6;\n",
              "    }\n",
              "\n",
              "    [theme=dark] .colab-df-convert {\n",
              "      background-color: #3B4455;\n",
              "      fill: #D2E3FC;\n",
              "    }\n",
              "\n",
              "    [theme=dark] .colab-df-convert:hover {\n",
              "      background-color: #434B5C;\n",
              "      box-shadow: 0px 1px 3px 1px rgba(0, 0, 0, 0.15);\n",
              "      filter: drop-shadow(0px 1px 2px rgba(0, 0, 0, 0.3));\n",
              "      fill: #FFFFFF;\n",
              "    }\n",
              "  </style>\n",
              "\n",
              "      <script>\n",
              "        const buttonEl =\n",
              "          document.querySelector('#df-7eec1a0d-234f-4363-b7cb-1a881cd16777 button.colab-df-convert');\n",
              "        buttonEl.style.display =\n",
              "          google.colab.kernel.accessAllowed ? 'block' : 'none';\n",
              "\n",
              "        async function convertToInteractive(key) {\n",
              "          const element = document.querySelector('#df-7eec1a0d-234f-4363-b7cb-1a881cd16777');\n",
              "          const dataTable =\n",
              "            await google.colab.kernel.invokeFunction('convertToInteractive',\n",
              "                                                     [key], {});\n",
              "          if (!dataTable) return;\n",
              "\n",
              "          const docLinkHtml = 'Like what you see? Visit the ' +\n",
              "            '<a target=\"_blank\" href=https://colab.research.google.com/notebooks/data_table.ipynb>data table notebook</a>'\n",
              "            + ' to learn more about interactive tables.';\n",
              "          element.innerHTML = '';\n",
              "          dataTable['output_type'] = 'display_data';\n",
              "          await google.colab.output.renderOutput(dataTable, element);\n",
              "          const docLink = document.createElement('div');\n",
              "          docLink.innerHTML = docLinkHtml;\n",
              "          element.appendChild(docLink);\n",
              "        }\n",
              "      </script>\n",
              "    </div>\n",
              "  </div>\n",
              "  "
            ]
          },
          "metadata": {},
          "execution_count": 9
        }
      ]
    },
    {
      "cell_type": "markdown",
      "source": [
        "### Outlier Detection"
      ],
      "metadata": {
        "id": "KtYMy2zy7-Q2"
      }
    },
    {
      "cell_type": "code",
      "source": [
        "def chkoutlr(fl,n,w,h,col):\n",
        "    arrfl=numpy.array(fl.iloc[:,:-1])\n",
        "    dcmpca = decomposition.PCA(n_components=n)\n",
        "    dcmpca.fit(arrfl)\n",
        "    print(dcmpca.explained_variance_ratio_)\n",
        "    pccm=[\"Comp-{}\".format(i+1) for i in range(len(dcmpca.explained_variance_ratio_.tolist()))]\n",
        "    mpl.figure(figsize=(w,h))\n",
        "    mpl.title(\"PCA Component (Variance for PCA=> {})\".format(n),fontsize=18)\n",
        "    mpl.bar(pccm,dcmpca.explained_variance_ratio_.tolist(),width=0.5,color=col)\n",
        "    mpl.plot(dcmpca.explained_variance_ratio_.tolist(),\"--kX\")\n",
        "    mpl.xlabel(\"Components\",fontsize=14)\n",
        "    mpl.ylabel(\"Variance\",fontsize=14)\n",
        "    mpl.grid()\n",
        "    mpl.show()\n",
        "    return dcmpca.explained_variance_ratio_"
      ],
      "metadata": {
        "id": "DQDtmcxR7-cw"
      },
      "execution_count": 10,
      "outputs": []
    },
    {
      "cell_type": "code",
      "source": [
        "def normalize_data(fl):\n",
        "    pp = preprocessing.StandardScaler()\n",
        "    flnrm=pp.fit_transform(fl)\n",
        "    return flnrm"
      ],
      "metadata": {
        "id": "ZM4an4909G9F"
      },
      "execution_count": 11,
      "outputs": []
    },
    {
      "cell_type": "code",
      "source": [
        "out_pc=[]\n",
        "out_pc.append(chkoutlr(le_data.drop('CANCELLED',axis=1),2,6,3,\"#FFA600\"))\n",
        "out_pc.append(chkoutlr(le_data.drop('CANCELLED',axis=1),4,7,3,\"#FFA600\"))\n",
        "out_pc.append(chkoutlr(le_data.drop('CANCELLED',axis=1),6,8,3,\"#FFA600\"))\n",
        "mnv=[]\n",
        "for opc in out_pc:\n",
        "  mnv.append(opc.mean())\n",
        "mnv.sort()\n",
        "crit=mnv[-1]\n",
        "valstr=[]\n",
        "outflag=[]\n",
        "for opc in out_pc:\n",
        "  for p in opc:\n",
        "    if p>crit:\n",
        "        outflag.append(True)\n",
        "if len(outflag)==3 and True in outflag:\n",
        "    le_norm_data=normalize_data(le_data.drop('CANCELLED',axis=1))\n",
        "le_norm_data=pandas.DataFrame(le_norm_data,columns=le_data.drop('CANCELLED',axis=1).columns.tolist())\n",
        "le_norm_data['CANCELLED']=le_data['CANCELLED']\n",
        "le_norm_data.head(10)"
      ],
      "metadata": {
        "colab": {
          "base_uri": "https://localhost:8080/",
          "height": 1000
        },
        "id": "4evT25Rl9G_e",
        "outputId": "ea699fb5-84b0-4877-adec-cfd87eaf19ea"
      },
      "execution_count": 12,
      "outputs": [
        {
          "output_type": "stream",
          "name": "stdout",
          "text": [
            "[0.44389445 0.28870686]\n"
          ]
        },
        {
          "output_type": "display_data",
          "data": {
            "text/plain": [
              "<Figure size 432x216 with 1 Axes>"
            ],
            "image/png": "[encoded data removed]"
          },
          "metadata": {
            "needs_background": "light"
          }
        },
        {
          "output_type": "stream",
          "name": "stdout",
          "text": [
            "[0.44389445 0.28870686 0.17465543 0.04766964]\n"
          ]
        },
        {
          "output_type": "display_data",
          "data": {
            "text/plain": [
              "<Figure size 504x216 with 1 Axes>"
            ],
            "image/png": "[encoded data removed]"
          },
          "metadata": {
            "needs_background": "light"
          }
        },
        {
          "output_type": "stream",
          "name": "stdout",
          "text": [
            "[0.44389445 0.28870686 0.17465543 0.04766964 0.02966127 0.006242  ]\n"
          ]
        },
        {
          "output_type": "display_data",
          "data": {
            "text/plain": [
              "<Figure size 576x216 with 1 Axes>"
            ],
            "image/png": "[encoded data removed]"
          },
          "metadata": {
            "needs_background": "light"
          }
        },
        {
          "output_type": "execute_result",
          "data": {
            "text/plain": [
              "   YEAR    MONTH      DAY  DAY_OF_WEEK   AIRLINE  FLIGHT_NUMBER  TAIL_NUMBER  \\\n",
              "0   0.0 -1.62228 -1.67413     0.036734 -1.242252      -1.181000    -0.657950   \n",
              "1   0.0 -1.62228 -1.67413     0.036734 -1.458026       0.092716    -0.704169   \n",
              "2   0.0 -1.62228 -1.67413     0.036734  0.915486      -0.758705    -1.498992   \n",
              "3   0.0 -1.62228 -1.67413     0.036734 -1.458026      -1.089939    -0.732180   \n",
              "4   0.0 -1.62228 -1.67413     0.036734 -1.242252      -1.159942    -0.301505   \n",
              "5   0.0 -1.62228 -1.67413     0.036734 -0.810704      -0.778055    -0.994787   \n",
              "6   0.0 -1.62228 -1.67413     0.036734  0.268164      -0.888467     0.142476   \n",
              "7   0.0 -1.62228 -1.67413     0.036734  0.915486      -0.091114    -0.106125   \n",
              "8   0.0 -1.62228 -1.67413     0.036734 -1.458026      -0.603901    -0.700667   \n",
              "9   0.0 -1.62228 -1.67413     0.036734 -0.810704      -0.569184     0.961109   \n",
              "\n",
              "   ORIGIN_AIRPORT  DESTINATION_AIRPORT  SCHEDULED_DEPARTURE  ...  \\\n",
              "0       -0.952644             1.156696            -2.738186  ...   \n",
              "1        0.337404             0.816000            -2.727850  ...   \n",
              "2        1.164981            -0.554893            -2.707179  ...   \n",
              "3        0.337404             0.556423            -2.707179  ...   \n",
              "4        1.156868            -0.952372            -2.696843  ...   \n",
              "5        1.164981             0.661876            -2.696843  ...   \n",
              "6        0.321177             0.661876            -2.696843  ...   \n",
              "7        0.337404            -0.554893            -2.686507  ...   \n",
              "8        1.164981            -0.392658            -2.686507  ...   \n",
              "9        0.321177            -0.928036            -2.686507  ...   \n",
              "\n",
              "   ARRIVAL_TIME  ARRIVAL_DELAY  DIVERTED  CANCELLATION_REASON  \\\n",
              "0     -2.046451      -0.678581 -0.051154             0.019366   \n",
              "1     -1.408665      -0.344520 -0.051154             0.019366   \n",
              "2     -1.274596       0.015237 -0.051154             0.019366   \n",
              "3     -1.379936      -0.344520 -0.051154             0.019366   \n",
              "4     -2.331826      -0.652884 -0.051154             0.019366   \n",
              "5     -1.659566       0.092328 -0.051154             0.019366   \n",
              "6     -1.853008      -0.550096 -0.051154             0.019366   \n",
              "7     -1.385682      -0.370217 -0.051154             0.019366   \n",
              "8     -1.808957      -0.447308 -0.051154             0.019366   \n",
              "9     -1.571463      -0.498702 -0.051154             0.019366   \n",
              "\n",
              "   AIR_SYSTEM_DELAY  SECURITY_DELAY  AIRLINE_DELAY  LATE_AIRCRAFT_DELAY  \\\n",
              "0      5.935348e-16    3.029047e-17  -1.725560e-16        -9.619389e-16   \n",
              "1      5.935348e-16    3.029047e-17  -1.725560e-16        -9.619389e-16   \n",
              "2      5.935348e-16    3.029047e-17  -1.725560e-16        -9.619389e-16   \n",
              "3      5.935348e-16    3.029047e-17  -1.725560e-16        -9.619389e-16   \n",
              "4      5.935348e-16    3.029047e-17  -1.725560e-16        -9.619389e-16   \n",
              "5      5.935348e-16    3.029047e-17  -1.725560e-16        -9.619389e-16   \n",
              "6      5.935348e-16    3.029047e-17  -1.725560e-16        -9.619389e-16   \n",
              "7      5.935348e-16    3.029047e-17  -1.725560e-16        -9.619389e-16   \n",
              "8      5.935348e-16    3.029047e-17  -1.725560e-16        -9.619389e-16   \n",
              "9      5.935348e-16    3.029047e-17  -1.725560e-16        -9.619389e-16   \n",
              "\n",
              "   WEATHER_DELAY  CANCELLED  \n",
              "0   2.541979e-16          0  \n",
              "1   2.541979e-16          0  \n",
              "2   2.541979e-16          0  \n",
              "3   2.541979e-16          0  \n",
              "4   2.541979e-16          0  \n",
              "5   2.541979e-16          0  \n",
              "6   2.541979e-16          0  \n",
              "7   2.541979e-16          0  \n",
              "8   2.541979e-16          0  \n",
              "9   2.541979e-16          0  \n",
              "\n",
              "[10 rows x 31 columns]"
            ],
            "text/html": [
              "\n",
              "  <div id=\"df-6e1f30a5-5fae-4655-9fbc-bc7ff7f8063c\">\n",
              "    <div class=\"colab-df-container\">\n",
              "      <div>\n",
              "<style scoped>\n",
              "    .dataframe tbody tr th:only-of-type {\n",
              "        vertical-align: middle;\n",
              "    }\n",
              "\n",
              "    .dataframe tbody tr th {\n",
              "        vertical-align: top;\n",
              "    }\n",
              "\n",
              "    .dataframe thead th {\n",
              "        text-align: right;\n",
              "    }\n",
              "</style>\n",
              "<table border=\"1\" class=\"dataframe\">\n",
              "  <thead>\n",
              "    <tr style=\"text-align: right;\">\n",
              "      <th></th>\n",
              "      <th>YEAR</th>\n",
              "      <th>MONTH</th>\n",
              "      <th>DAY</th>\n",
              "      <th>DAY_OF_WEEK</th>\n",
              "      <th>AIRLINE</th>\n",
              "      <th>FLIGHT_NUMBER</th>\n",
              "      <th>TAIL_NUMBER</th>\n",
              "      <th>ORIGIN_AIRPORT</th>\n",
              "      <th>DESTINATION_AIRPORT</th>\n",
              "      <th>SCHEDULED_DEPARTURE</th>\n",
              "      <th>...</th>\n",
              "      <th>ARRIVAL_TIME</th>\n",
              "      <th>ARRIVAL_DELAY</th>\n",
              "      <th>DIVERTED</th>\n",
              "      <th>CANCELLATION_REASON</th>\n",
              "      <th>AIR_SYSTEM_DELAY</th>\n",
              "      <th>SECURITY_DELAY</th>\n",
              "      <th>AIRLINE_DELAY</th>\n",
              "      <th>LATE_AIRCRAFT_DELAY</th>\n",
              "      <th>WEATHER_DELAY</th>\n",
              "      <th>CANCELLED</th>\n",
              "    </tr>\n",
              "  </thead>\n",
              "  <tbody>\n",
              "    <tr>\n",
              "      <th>0</th>\n",
              "      <td>0.0</td>\n",
              "      <td>-1.62228</td>\n",
              "      <td>-1.67413</td>\n",
              "      <td>0.036734</td>\n",
              "      <td>-1.242252</td>\n",
              "      <td>-1.181000</td>\n",
              "      <td>-0.657950</td>\n",
              "      <td>-0.952644</td>\n",
              "      <td>1.156696</td>\n",
              "      <td>-2.738186</td>\n",
              "      <td>...</td>\n",
              "      <td>-2.046451</td>\n",
              "      <td>-0.678581</td>\n",
              "      <td>-0.051154</td>\n",
              "      <td>0.019366</td>\n",
              "      <td>5.935348e-16</td>\n",
              "      <td>3.029047e-17</td>\n",
              "      <td>-1.725560e-16</td>\n",
              "      <td>-9.619389e-16</td>\n",
              "      <td>2.541979e-16</td>\n",
              "      <td>0</td>\n",
              "    </tr>\n",
              "    <tr>\n",
              "      <th>1</th>\n",
              "      <td>0.0</td>\n",
              "      <td>-1.62228</td>\n",
              "      <td>-1.67413</td>\n",
              "      <td>0.036734</td>\n",
              "      <td>-1.458026</td>\n",
              "      <td>0.092716</td>\n",
              "      <td>-0.704169</td>\n",
              "      <td>0.337404</td>\n",
              "      <td>0.816000</td>\n",
              "      <td>-2.727850</td>\n",
              "      <td>...</td>\n",
              "      <td>-1.408665</td>\n",
              "      <td>-0.344520</td>\n",
              "      <td>-0.051154</td>\n",
              "      <td>0.019366</td>\n",
              "      <td>5.935348e-16</td>\n",
              "      <td>3.029047e-17</td>\n",
              "      <td>-1.725560e-16</td>\n",
              "      <td>-9.619389e-16</td>\n",
              "      <td>2.541979e-16</td>\n",
              "      <td>0</td>\n",
              "    </tr>\n",
              "    <tr>\n",
              "      <th>2</th>\n",
              "      <td>0.0</td>\n",
              "      <td>-1.62228</td>\n",
              "      <td>-1.67413</td>\n",
              "      <td>0.036734</td>\n",
              "      <td>0.915486</td>\n",
              "      <td>-0.758705</td>\n",
              "      <td>-1.498992</td>\n",
              "      <td>1.164981</td>\n",
              "      <td>-0.554893</td>\n",
              "      <td>-2.707179</td>\n",
              "      <td>...</td>\n",
              "      <td>-1.274596</td>\n",
              "      <td>0.015237</td>\n",
              "      <td>-0.051154</td>\n",
              "      <td>0.019366</td>\n",
              "      <td>5.935348e-16</td>\n",
              "      <td>3.029047e-17</td>\n",
              "      <td>-1.725560e-16</td>\n",
              "      <td>-9.619389e-16</td>\n",
              "      <td>2.541979e-16</td>\n",
              "      <td>0</td>\n",
              "    </tr>\n",
              "    <tr>\n",
              "      <th>3</th>\n",
              "      <td>0.0</td>\n",
              "      <td>-1.62228</td>\n",
              "      <td>-1.67413</td>\n",
              "      <td>0.036734</td>\n",
              "      <td>-1.458026</td>\n",
              "      <td>-1.089939</td>\n",
              "      <td>-0.732180</td>\n",
              "      <td>0.337404</td>\n",
              "      <td>0.556423</td>\n",
              "      <td>-2.707179</td>\n",
              "      <td>...</td>\n",
              "      <td>-1.379936</td>\n",
              "      <td>-0.344520</td>\n",
              "      <td>-0.051154</td>\n",
              "      <td>0.019366</td>\n",
              "      <td>5.935348e-16</td>\n",
              "      <td>3.029047e-17</td>\n",
              "      <td>-1.725560e-16</td>\n",
              "      <td>-9.619389e-16</td>\n",
              "      <td>2.541979e-16</td>\n",
              "      <td>0</td>\n",
              "    </tr>\n",
              "    <tr>\n",
              "      <th>4</th>\n",
              "      <td>0.0</td>\n",
              "      <td>-1.62228</td>\n",
              "      <td>-1.67413</td>\n",
              "      <td>0.036734</td>\n",
              "      <td>-1.242252</td>\n",
              "      <td>-1.159942</td>\n",
              "      <td>-0.301505</td>\n",
              "      <td>1.156868</td>\n",
              "      <td>-0.952372</td>\n",
              "      <td>-2.696843</td>\n",
              "      <td>...</td>\n",
              "      <td>-2.331826</td>\n",
              "      <td>-0.652884</td>\n",
              "      <td>-0.051154</td>\n",
              "      <td>0.019366</td>\n",
              "      <td>5.935348e-16</td>\n",
              "      <td>3.029047e-17</td>\n",
              "      <td>-1.725560e-16</td>\n",
              "      <td>-9.619389e-16</td>\n",
              "      <td>2.541979e-16</td>\n",
              "      <td>0</td>\n",
              "    </tr>\n",
              "    <tr>\n",
              "      <th>5</th>\n",
              "      <td>0.0</td>\n",
              "      <td>-1.62228</td>\n",
              "      <td>-1.67413</td>\n",
              "      <td>0.036734</td>\n",
              "      <td>-0.810704</td>\n",
              "      <td>-0.778055</td>\n",
              "      <td>-0.994787</td>\n",
              "      <td>1.164981</td>\n",
              "      <td>0.661876</td>\n",
              "      <td>-2.696843</td>\n",
              "      <td>...</td>\n",
              "      <td>-1.659566</td>\n",
              "      <td>0.092328</td>\n",
              "      <td>-0.051154</td>\n",
              "      <td>0.019366</td>\n",
              "      <td>5.935348e-16</td>\n",
              "      <td>3.029047e-17</td>\n",
              "      <td>-1.725560e-16</td>\n",
              "      <td>-9.619389e-16</td>\n",
              "      <td>2.541979e-16</td>\n",
              "      <td>0</td>\n",
              "    </tr>\n",
              "    <tr>\n",
              "      <th>6</th>\n",
              "      <td>0.0</td>\n",
              "      <td>-1.62228</td>\n",
              "      <td>-1.67413</td>\n",
              "      <td>0.036734</td>\n",
              "      <td>0.268164</td>\n",
              "      <td>-0.888467</td>\n",
              "      <td>0.142476</td>\n",
              "      <td>0.321177</td>\n",
              "      <td>0.661876</td>\n",
              "      <td>-2.696843</td>\n",
              "      <td>...</td>\n",
              "      <td>-1.853008</td>\n",
              "      <td>-0.550096</td>\n",
              "      <td>-0.051154</td>\n",
              "      <td>0.019366</td>\n",
              "      <td>5.935348e-16</td>\n",
              "      <td>3.029047e-17</td>\n",
              "      <td>-1.725560e-16</td>\n",
              "      <td>-9.619389e-16</td>\n",
              "      <td>2.541979e-16</td>\n",
              "      <td>0</td>\n",
              "    </tr>\n",
              "    <tr>\n",
              "      <th>7</th>\n",
              "      <td>0.0</td>\n",
              "      <td>-1.62228</td>\n",
              "      <td>-1.67413</td>\n",
              "      <td>0.036734</td>\n",
              "      <td>0.915486</td>\n",
              "      <td>-0.091114</td>\n",
              "      <td>-0.106125</td>\n",
              "      <td>0.337404</td>\n",
              "      <td>-0.554893</td>\n",
              "      <td>-2.686507</td>\n",
              "      <td>...</td>\n",
              "      <td>-1.385682</td>\n",
              "      <td>-0.370217</td>\n",
              "      <td>-0.051154</td>\n",
              "      <td>0.019366</td>\n",
              "      <td>5.935348e-16</td>\n",
              "      <td>3.029047e-17</td>\n",
              "      <td>-1.725560e-16</td>\n",
              "      <td>-9.619389e-16</td>\n",
              "      <td>2.541979e-16</td>\n",
              "      <td>0</td>\n",
              "    </tr>\n",
              "    <tr>\n",
              "      <th>8</th>\n",
              "      <td>0.0</td>\n",
              "      <td>-1.62228</td>\n",
              "      <td>-1.67413</td>\n",
              "      <td>0.036734</td>\n",
              "      <td>-1.458026</td>\n",
              "      <td>-0.603901</td>\n",
              "      <td>-0.700667</td>\n",
              "      <td>1.164981</td>\n",
              "      <td>-0.392658</td>\n",
              "      <td>-2.686507</td>\n",
              "      <td>...</td>\n",
              "      <td>-1.808957</td>\n",
              "      <td>-0.447308</td>\n",
              "      <td>-0.051154</td>\n",
              "      <td>0.019366</td>\n",
              "      <td>5.935348e-16</td>\n",
              "      <td>3.029047e-17</td>\n",
              "      <td>-1.725560e-16</td>\n",
              "      <td>-9.619389e-16</td>\n",
              "      <td>2.541979e-16</td>\n",
              "      <td>0</td>\n",
              "    </tr>\n",
              "    <tr>\n",
              "      <th>9</th>\n",
              "      <td>0.0</td>\n",
              "      <td>-1.62228</td>\n",
              "      <td>-1.67413</td>\n",
              "      <td>0.036734</td>\n",
              "      <td>-0.810704</td>\n",
              "      <td>-0.569184</td>\n",
              "      <td>0.961109</td>\n",
              "      <td>0.321177</td>\n",
              "      <td>-0.928036</td>\n",
              "      <td>-2.686507</td>\n",
              "      <td>...</td>\n",
              "      <td>-1.571463</td>\n",
              "      <td>-0.498702</td>\n",
              "      <td>-0.051154</td>\n",
              "      <td>0.019366</td>\n",
              "      <td>5.935348e-16</td>\n",
              "      <td>3.029047e-17</td>\n",
              "      <td>-1.725560e-16</td>\n",
              "      <td>-9.619389e-16</td>\n",
              "      <td>2.541979e-16</td>\n",
              "      <td>0</td>\n",
              "    </tr>\n",
              "  </tbody>\n",
              "</table>\n",
              "<p>10 rows × 31 columns</p>\n",
              "</div>\n",
              "      <button class=\"colab-df-convert\" onclick=\"convertToInteractive('df-6e1f30a5-5fae-4655-9fbc-bc7ff7f8063c')\"\n",
              "              title=\"Convert this dataframe to an interactive table.\"\n",
              "              style=\"display:none;\">\n",
              "        \n",
              "  <svg xmlns=\"http://www.w3.org/2000/svg\" height=\"24px\"viewBox=\"0 0 24 24\"\n",
              "       width=\"24px\">\n",
              "    <path d=\"M0 0h24v24H0V0z\" fill=\"none\"/>\n",
              "    <path d=\"M18.56 5.44l.94 2.06.94-2.06 2.06-.94-2.06-.94-.94-2.06-.94 2.06-2.06.94zm-11 1L8.5 8.5l.94-2.06 2.06-.94-2.06-.94L8.5 2.5l-.94 2.06-2.06.94zm10 10l.94 2.06.94-2.06 2.06-.94-2.06-.94-.94-2.06-.94 2.06-2.06.94z\"/><path d=\"M17.41 7.96l-1.37-1.37c-.4-.4-.92-.59-1.43-.59-.52 0-1.04.2-1.43.59L10.3 9.45l-7.72 7.72c-.78.78-.78 2.05 0 2.83L4 21.41c.39.39.9.59 1.41.59.51 0 1.02-.2 1.41-.59l7.78-7.78 2.81-2.81c.8-.78.8-2.07 0-2.86zM5.41 20L4 18.59l7.72-7.72 1.47 1.35L5.41 20z\"/>\n",
              "  </svg>\n",
              "      </button>\n",
              "      \n",
              "  <style>\n",
              "    .colab-df-container {\n",
              "      display:flex;\n",
              "      flex-wrap:wrap;\n",
              "      gap: 12px;\n",
              "    }\n",
              "\n",
              "    .colab-df-convert {\n",
              "      background-color: #E8F0FE;\n",
              "      border: none;\n",
              "      border-radius: 50%;\n",
              "      cursor: pointer;\n",
              "      display: none;\n",
              "      fill: #1967D2;\n",
              "      height: 32px;\n",
              "      padding: 0 0 0 0;\n",
              "      width: 32px;\n",
              "    }\n",
              "\n",
              "    .colab-df-convert:hover {\n",
              "      background-color: #E2EBFA;\n",
              "      box-shadow: 0px 1px 2px rgba(60, 64, 67, 0.3), 0px 1px 3px 1px rgba(60, 64, 67, 0.15);\n",
              "      fill: #174EA6;\n",
              "    }\n",
              "\n",
              "    [theme=dark] .colab-df-convert {\n",
              "      background-color: #3B4455;\n",
              "      fill: #D2E3FC;\n",
              "    }\n",
              "\n",
              "    [theme=dark] .colab-df-convert:hover {\n",
              "      background-color: #434B5C;\n",
              "      box-shadow: 0px 1px 3px 1px rgba(0, 0, 0, 0.15);\n",
              "      filter: drop-shadow(0px 1px 2px rgba(0, 0, 0, 0.3));\n",
              "      fill: #FFFFFF;\n",
              "    }\n",
              "  </style>\n",
              "\n",
              "      <script>\n",
              "        const buttonEl =\n",
              "          document.querySelector('#df-6e1f30a5-5fae-4655-9fbc-bc7ff7f8063c button.colab-df-convert');\n",
              "        buttonEl.style.display =\n",
              "          google.colab.kernel.accessAllowed ? 'block' : 'none';\n",
              "\n",
              "        async function convertToInteractive(key) {\n",
              "          const element = document.querySelector('#df-6e1f30a5-5fae-4655-9fbc-bc7ff7f8063c');\n",
              "          const dataTable =\n",
              "            await google.colab.kernel.invokeFunction('convertToInteractive',\n",
              "                                                     [key], {});\n",
              "          if (!dataTable) return;\n",
              "\n",
              "          const docLinkHtml = 'Like what you see? Visit the ' +\n",
              "            '<a target=\"_blank\" href=https://colab.research.google.com/notebooks/data_table.ipynb>data table notebook</a>'\n",
              "            + ' to learn more about interactive tables.';\n",
              "          element.innerHTML = '';\n",
              "          dataTable['output_type'] = 'display_data';\n",
              "          await google.colab.output.renderOutput(dataTable, element);\n",
              "          const docLink = document.createElement('div');\n",
              "          docLink.innerHTML = docLinkHtml;\n",
              "          element.appendChild(docLink);\n",
              "        }\n",
              "      </script>\n",
              "    </div>\n",
              "  </div>\n",
              "  "
            ]
          },
          "metadata": {},
          "execution_count": 12
        }
      ]
    },
    {
      "cell_type": "code",
      "source": [
        "chkoutlr(le_norm_data.drop('CANCELLED',axis=1),2,6,3,\"#57E964\")\n",
        "chkoutlr(le_norm_data.drop('CANCELLED',axis=1),4,7,3,\"#57E964\")\n",
        "chkoutlr(le_norm_data.drop('CANCELLED',axis=1),6,8,3,\"#57E964\")"
      ],
      "metadata": {
        "colab": {
          "base_uri": "https://localhost:8080/",
          "height": 800
        },
        "id": "DkHaERun__v8",
        "outputId": "152a131f-5cf1-4cb1-e23c-6e8a69f71f50"
      },
      "execution_count": 13,
      "outputs": [
        {
          "output_type": "stream",
          "name": "stdout",
          "text": [
            "[0.17620881 0.14801169]\n"
          ]
        },
        {
          "output_type": "display_data",
          "data": {
            "text/plain": [
              "<Figure size 432x216 with 1 Axes>"
            ],
            "image/png": "[encoded data removed]"
          },
          "metadata": {
            "needs_background": "light"
          }
        },
        {
          "output_type": "stream",
          "name": "stdout",
          "text": [
            "[0.17620878 0.14801165 0.08634999 0.06001774]\n"
          ]
        },
        {
          "output_type": "display_data",
          "data": {
            "text/plain": [
              "<Figure size 504x216 with 1 Axes>"
            ],
            "image/png": "[encoded data removed]"
          },
          "metadata": {
            "needs_background": "light"
          }
        },
        {
          "output_type": "stream",
          "name": "stdout",
          "text": [
            "[0.17620879 0.14801164 0.08635014 0.06005023 0.05176391 0.03945142]\n"
          ]
        },
        {
          "output_type": "display_data",
          "data": {
            "text/plain": [
              "<Figure size 576x216 with 1 Axes>"
            ],
            "image/png": "[encoded data removed]"
          },
          "metadata": {
            "needs_background": "light"
          }
        },
        {
          "output_type": "execute_result",
          "data": {
            "text/plain": [
              "array([0.17620879, 0.14801164, 0.08635014, 0.06005023, 0.05176391,\n",
              "       0.03945142])"
            ]
          },
          "metadata": {},
          "execution_count": 13
        }
      ]
    },
    {
      "cell_type": "code",
      "source": [
        "def datavz(fl, ft):\n",
        "  t10=fl[ft].value_counts()[:10]\n",
        "  ct=t10.index.tolist()\n",
        "  vl=t10.tolist()\n",
        "  t10df=pandas.DataFrame({\n",
        "      \"{}\".format(ft):ct,\n",
        "      \"Count\":vl\n",
        "  })\n",
        "  vzcl=[\"#0020C2\",\"#00BFFF\",\"#728C00\",\"#FFD700\",\"#7FE817\",\"#FFFF00\",\"#FF6700\",\"#B3446C\",\"#FF1493\",\"#9400D3\"]\n",
        "  if \"_\" in ft:\n",
        "    nm=' '.join(ft.split(\"_\"))\n",
        "  else:\n",
        "    nm=ft.capitalize()\n",
        "  t10df=t10df[::-1]\n",
        "  mpl.figure(figsize=(6,4))\n",
        "  mpl.title(\"Top Listed {}\".format(nm),fontsize=16)\n",
        "  mpl.barh(t10df[\"{}\".format(ft)],t10df['Count'],color=vzcl)\n",
        "  mpl.xlabel(\"Regressor\",fontsize=13)\n",
        "  mpl.ylabel(\"{}\".format(nm),fontsize=13)\n",
        "  for id_tt, va_tt in enumerate(t10df['Count']):\n",
        "      mpl.text(va_tt, id_tt, str(va_tt))\n",
        "  mpl.grid()\n",
        "  mpl.show()"
      ],
      "metadata": {
        "id": "axf5pHEni9ta"
      },
      "execution_count": 14,
      "outputs": []
    },
    {
      "cell_type": "code",
      "source": [
        "cln_data_vz=cln_data.copy()\n",
        "ctdt=cln_data_vz.dtypes[cln_data_vz.dtypes=='object'].index.tolist()\n",
        "for col in ctdt:\n",
        "  datavz(cln_data,col)"
      ],
      "metadata": {
        "colab": {
          "base_uri": "https://localhost:8080/",
          "height": 1000
        },
        "id": "AzGiXDxIjMf7",
        "outputId": "8bffca59-5537-45ec-d18f-5bb58610b8f6"
      },
      "execution_count": 15,
      "outputs": [
        {
          "output_type": "display_data",
          "data": {
            "text/plain": [
              "<Figure size 432x288 with 1 Axes>"
            ],
            "image/png": "[encoded data removed]"
          },
          "metadata": {
            "needs_background": "light"
          }
        },
        {
          "output_type": "display_data",
          "data": {
            "text/plain": [
              "<Figure size 432x288 with 1 Axes>"
            ],
            "image/png": "[encoded data removed]"
          },
          "metadata": {
            "needs_background": "light"
          }
        },
        {
          "output_type": "display_data",
          "data": {
            "text/plain": [
              "<Figure size 432x288 with 1 Axes>"
            ],
            "image/png": "[encoded data removed]"
          },
          "metadata": {
            "needs_background": "light"
          }
        },
        {
          "output_type": "display_data",
          "data": {
            "text/plain": [
              "<Figure size 432x288 with 1 Axes>"
            ],
            "image/png": "[encoded data removed]"
          },
          "metadata": {
            "needs_background": "light"
          }
        },
        {
          "output_type": "display_data",
          "data": {
            "text/plain": [
              "<Figure size 432x288 with 1 Axes>"
            ],
            "image/png": "[encoded data removed]"
          },
          "metadata": {
            "needs_background": "light"
          }
        }
      ]
    },
    {
      "cell_type": "markdown",
      "source": [
        "## Big Data Analytics and Flight Delay Prediction"
      ],
      "metadata": {
        "id": "OUBC3A9RGlxx"
      }
    },
    {
      "cell_type": "markdown",
      "source": [
        "### Big Data"
      ],
      "metadata": {
        "id": "AD5N7dzzGu0k"
      }
    },
    {
      "cell_type": "code",
      "source": [
        "le_norm_data1=utils.resample(le_norm_data, replace = True, n_samples = int(len(le_norm_data)/10), random_state = 0)\n",
        "flight_sp = spark.createDataFrame(le_norm_data1)\n",
        "flight_sp.show()"
      ],
      "metadata": {
        "id": "UEnR7fRdlLcS",
        "colab": {
          "base_uri": "https://localhost:8080/"
        },
        "outputId": "e2201ac6-927d-4878-d0e5-53f4e055b733"
      },
      "execution_count": 16,
      "outputs": [
        {
          "output_type": "stream",
          "name": "stdout",
          "text": [
            "+----+--------------------+--------------------+-------------------+--------------------+--------------------+--------------------+--------------------+--------------------+--------------------+--------------------+--------------------+--------------------+--------------------+--------------------+--------------------+--------------------+--------------------+--------------------+--------------------+-------------------+-------------------+--------------------+--------------------+-------------------+--------------------+--------------------+--------------------+--------------------+--------------------+---------+\n",
            "|YEAR|               MONTH|                 DAY|        DAY_OF_WEEK|             AIRLINE|       FLIGHT_NUMBER|         TAIL_NUMBER|      ORIGIN_AIRPORT| DESTINATION_AIRPORT| SCHEDULED_DEPARTURE|      DEPARTURE_TIME|     DEPARTURE_DELAY|            TAXI_OUT|          WHEELS_OFF|      SCHEDULED_TIME|        ELAPSED_TIME|            AIR_TIME|            DISTANCE|           WHEELS_ON|             TAXI_IN|  SCHEDULED_ARRIVAL|       ARRIVAL_TIME|       ARRIVAL_DELAY|            DIVERTED|CANCELLATION_REASON|    AIR_SYSTEM_DELAY|      SECURITY_DELAY|       AIRLINE_DELAY| LATE_AIRCRAFT_DELAY|       WEATHER_DELAY|CANCELLED|\n",
            "+----+--------------------+--------------------+-------------------+--------------------+--------------------+--------------------+--------------------+--------------------+--------------------+--------------------+--------------------+--------------------+--------------------+--------------------+--------------------+--------------------+--------------------+--------------------+--------------------+-------------------+-------------------+--------------------+--------------------+-------------------+--------------------+--------------------+--------------------+--------------------+--------------------+---------+\n",
            "| 0.0|  1.0207857438275383| -0.8771742885247861|0.03673429453372132| -0.8107044563911862| -1.0654665421922467|  0.8672708477462038| -1.3583189456047418| -2.2340357994507323| -1.0017585274326615| -0.9989238913599378|-0.30892620012440486|-0.00811830036777...| -1.0080671041532276| -0.2218557691557282| -0.5576188547345733| -0.5380542504792613|-0.38230095700775724| -1.0761519694474158| -0.4353179038404633|-1.0722518739431048| -1.067747048940426| -0.9098532091929915|-0.05115361556176...| 0.0193661275360387|5.935347537916635...|3.029046785007847...|-1.72555959537276...|-9.61938881850700...|2.541979209091311...|        0|\n",
            "| 0.0| -0.7412581382598097| -1.1048759147074343|-1.4716789993681665|0.052390676180900236| 0.44500787984120366| 0.21250432095212266|    1.40838640956777|  0.7592178722483771| -1.4565372164436214| -1.4636770568504707| -0.5534554084103055| -0.3479750625362222| -1.4775276762789409|  -0.886656233937191|  -1.006366289599925| -1.0130755732206267| -0.9844883433647191| -1.6668623654688122| 0.27979195071987084|-1.6834932109877305|-1.6461590772764723| -0.7042776483676332|-0.05115361556176...| 0.0193661275360387|5.935347537916635...|3.029046785007847...|-1.72555959537276...|-9.61938881850700...|2.541979209091311...|        0|\n",
            "| 0.0|-0.44758415791191836|   0.602886281662427|0.03673429453372132| 0.26816445932392186| -0.8247240099691308| -0.3750348405240635| -0.1656336458676179| 0.35362794383386364| -1.0741096825025869| -1.0415431772782835| 0.07145256832032956|-0.23468947514674113| -1.0546084539760354| 0.19032051900877875| 0.06790787265349277|  0.1325640875085487|  0.2593741268152349| -0.8348487030988062| -0.4353179038404633|-0.8829642340841238| -0.828338096814579|-0.16464180120106756|-0.05115361556176...| 0.0193661275360387|5.935347537916635...|3.029046785007847...|-1.72555959537276...|-9.61938881850700...|2.541979209091311...|        0|\n",
            "| 0.0|  1.3144597241754294| 0.37518465547977875|0.03673429453372132|  1.3470333750390298|  -0.119001220473472|  -1.396050451289593|  0.5645818437673559|  0.3211807495607026| -1.6529189230619905| -1.6443016495520315| -0.3904359362197051| -0.8011174120941462| -1.6657166125189897|  1.3736653463197825|  1.2509692918439657|  1.4318871173599306|  1.1544286027119215| -1.4699589001283468| -0.6140953674805468|-1.4961773173772808| -1.460377730426815| -0.6528837581612936|-0.05115361556176...| 0.0193661275360387|5.935347537916635...|3.029046785007847...|-1.72555959537276...|-9.61938881850700...|2.541979209091311...|        0|\n",
            "| 0.0|-0.44758415791191836|  0.8305879078450751|   1.04234315713498|  1.3470333750390298| -0.6904090274522151|  0.6529836207954136| -0.4333793254004416|  0.5645347066094106| -0.9810867688412542| -0.9847174627204892| -0.3904359362197051| -0.4612606499257032| -0.9210550153540653|-0.08889567619943561|-0.14966664122061718|-0.07700414311264193| 0.04548243220757086| -0.8136140156601286|-0.25654044020037975|-0.7567724741781366|-0.8053548374104977|  -0.473005142439105|-0.05115361556176...| 0.0193661275360387|5.935347537916635...|3.029046785007847...|-1.72555959537276...|-9.61938881850700...|2.541979209091311...|        0|\n",
            "| 0.0|-0.44758415791191836|   0.602886281662427|0.03673429453372132|  1.3470333750390298|  0.2993102716872612|  -1.238486313825777|  -1.074346255191141|-0.43321651729029254| -0.1852240630720743|-0.04303419290561027|   0.669190633019198| -0.9144029994836272|-0.07116949685061891| -0.6207360480246058| -0.6120124832031009|-0.46819817360553107| -0.3987541642852699| 0.13615564068799907| -0.6140953674805468|0.04178475647693892|0.13312825492282246|  0.6833573872035356|-0.05115361556176...| 0.0193661275360387|  -1.126066785828669|-0.08310894052541584| -0.9213543971063618|  0.4076134913755433| -0.3337440409428129|        0|\n",
            "| 0.0| -1.6222800793034837|  1.0582895340277232| 1.5451475884356092| -0.8107044563911862|   0.142230037896292| -1.1642560979539345|-0.10883910778489769|  1.2297021892092128|  0.6416462805842165|  0.6064025448977545|-0.41760584825147185| -0.6878318247046652|  0.5804094006686901| -0.6340320573202352| -0.6664061116716283| -0.5939391119782454| -0.4546950690288128|  0.7403790196249176|-0.07776297656029622| 0.8285115096408282| 0.8149649505772346|-0.42161125223276547|-0.05115361556176...| 0.0193661275360387|5.935347537916635...|3.029046785007847...|-1.72555959537276...|-9.61938881850700...|2.541979209091311...|        0|\n",
            "| 0.0|-0.15391017756402706|  1.2859911602103713|   1.04234315713498| -0.8107044563911862|  0.0819021220200502|-0.33511859236656333|   0.321176680555698| -0.3358749344708093| 0.18893476743239726| 0.19035713474247393|-0.03722707980673742|  2.7107357969797654|  0.3072319125782965|  1.2805932812503777|  1.8085039836463723|  1.5157144096084068|  1.5246257664559555|  1.3117851543384254| 0.10101448707978732| 1.2327194905896937|  1.307189756147976|  0.9146298931320637|-0.05115361556176...| 0.0193661275360387|   1.546976110178906|-0.08310894052541584| -0.5327929195700435| -1.2711091996936588| -0.3337440409428129|        0|\n",
            "| 0.0|  1.3144597241754294| -1.3325775408900824| -0.466070136766908| -1.2422520226772293| -1.1781545359988115| -0.6103306191366958|  1.1568677409157235| -0.9523716256608699|  0.4659363325572547| 0.43592540122437123| -0.3904359362197051| -0.6878318247046652| 0.49137377492070994|  1.0944491511115682|   1.318961327429625|  1.4738007634841686|  1.0293842274028255|  0.7094922015322956| -0.4353179038404633| 0.6806305410009994| 0.7038791967908417|0.015236814521120974|-0.05115361556176...| 0.0193661275360387|5.935347537916635...|3.029046785007847...|-1.72555959537276...|-9.61938881850700...|2.541979209091311...|        0|\n",
            "| 0.0| -1.6222800793034837|   0.602886281662427| -0.466070136766908|  1.3470333750390298| -1.1303475083232992|  1.4422048782252845|  -0.344130765556167|  0.3211807495607026|-0.40227752828185065|  -0.412401337531274|-0.33609611215617163| -1.1409741742625894|-0.44350029543308117|   0.775344928016466|  0.5166553075188446|  0.7053839178731364|  0.6476698185645328|-0.48158072116444167| -0.4353179038404633|-0.4708692681411343| -0.477843390902339| -0.8327623738834821|-0.05115361556176...| 0.0193661275360387|5.935347537916635...|3.029046785007847...|-1.72555959537276...|-9.61938881850700...|2.541979209091311...|        0|\n",
            "| 0.0| 0.13976380278386424|  1.1721403471190472| 1.5451475884356092| -0.8107044563911862| -0.6073158603019198|  1.5318413653158112|  -0.928303157264146|  1.2783729806189543|  0.3625775396002183|  0.3466278497764086|-0.22741646402910465|  2.3708790348113227|  0.3760321688380993| -0.5941440294333473|-0.43523319068038646| -0.7057088349762137| -0.6225177832594415|  0.3369199582900423| -0.4353179038404633| 0.2921965300403824| 0.3342317747085339| 0.11802459493380014|-0.05115361556176...| 0.0193661275360387|5.935347537916635...|3.029046785007847...|-1.72555959537276...|-9.61938881850700...|2.541979209091311...|        0|\n",
            "| 0.0|  1.3144597241754294| -0.5356218492508139| -0.466070136766908|  1.3470333750390298|  -0.955055073513087|   0.670490747180282| -0.4333793254004416|  1.0918016135482782| -1.0947814410939942| -1.1734600146445922|-0.33609611215617163| -0.1214038877572601|  -1.103173340747661| -1.0196163268934835| -0.8975790326628701| -0.8454209887236742| -0.9450006458986888| -1.0935258046245158| -0.7928728311206303| -1.160980455127002|-1.0888150367275005|-0.03615707568521861|-0.05115361556176...| 0.0193661275360387|5.935347537916635...|3.029046785007847...|-1.72555959537276...|-9.61938881850700...|2.541979209091311...|        0|\n",
            "| 0.0|-0.15391017756402706| 0.37518465547977875| 0.5395387258343506| -1.2422520226772293|    -0.9818042437601|0.043735622601990515|  1.1568677409157235|  0.3374043466972831|  0.8483638664982892|  1.0386838734981192|  1.5657977300675006|-0.23468947514674113|  1.1004583965148464| 0.30998460266944206|  0.2038919438248115|   0.230362595131771|  0.2165957878937021|    1.23456810910687| 0.10101448707978732| 1.0473753432277748|  1.230578891467705|  1.2743871245764407|-0.05115361556176...| 0.0193661275360387|  -1.126066785828669|-0.08310894052541584|  1.7014355762637865| -1.2711091996936588| -0.3337440409428129|        0|\n",
            "| 0.0|  1.0207857438275383|  0.8305879078450751| 0.5395387258343506|  1.3470333750390298|-0.34266981424104775| -1.3925490260126194|  -2.761955386791969| -2.0799116266532174|  -1.497880733626436| -1.4880309345180969|-0.33609611215617163| 0.10516728702170194| -1.4937159718694828|-0.02241562972128934|-0.10887141986922155|-0.07700414311264193|-0.18321714894985455| -1.4757501785207134| -0.6140953674805468|-1.5158947798625912|-1.4661235452778354|  -0.473005142439105|-0.05115361556176...| 0.0193661275360387|5.935347537916635...|3.029046785007847...|-1.72555959537276...|-9.61938881850700...|2.541979209091311...|        0|\n",
            "| 0.0| 0.13976380278386424|  -0.649472662342138| 0.5395387258343506| -1.4580258058202509|-0.08883726253535111| -1.7034755906078836| -0.5550819070062706|  0.2562863610143804| 0.18480041571411582| 0.18223917551993188|-0.09156690387027092| -0.9144029994836272| 0.15344310446814907|-0.38140788070327925| -0.4216347835632546|-0.25862994298434044| -0.4629216726675691|   0.263563765320065| -0.7928728311206303|0.23304414258445083| 0.2576209100282629|-0.13894485609789778|-0.05115361556176...| 0.0193661275360387|5.935347537916635...|3.029046785007847...|-1.72555959537276...|-9.61938881850700...|2.541979209091311...|        0|\n",
            "| 0.0| -1.3286060989555923|  1.3998419733016956|   1.04234315713498| 0.26816445932392186| -1.1240870642229344| 0.10746156264291178| -0.1656336458676179|  0.4753049223582177| -1.3014990270080669| -1.2789934845376387|-0.11873681590203766| 0.10516728702170194| -1.2852916661412566|  -1.152576419849776| -1.0471615109513208|  -1.124845296218595| -1.0618184175690284| -1.3830897242428473|  0.4585694143599544|-1.4567423924066596|-1.2860880132791983| 0.14372154003696994|-0.05115361556176...| 0.0193661275360387|5.935347537916635...|3.029046785007847...|-1.72555959537276...|-9.61938881850700...|2.541979209091311...|        0|\n",
            "| 0.0| -1.3286060989555923|  -0.649472662342138|-0.9688745680675372|  1.3470333750390298| -0.2669753537548198| -0.6187340398014327| -0.4333793254004416| -0.7901356542950644|  -1.270491389120956| -1.2586985864812836|-0.25458637606087137| -0.9144029994836272| -1.2832681291924388| -0.5542560015464596|  -0.598414076085969| -0.4821693889802771| -0.3280053729919656|  -1.215142650864215|-0.25654044020037975|-1.2595677675535546| -1.203731333747907|-0.29312652671691647|-0.05115361556176...| 0.0193661275360387|5.935347537916635...|3.029046785007847...|-1.72555959537276...|-9.61938881850700...|2.541979209091311...|        0|\n",
            "| 0.0| 0.13976380278386424|-0.19406940997684163|-0.9688745680675372| -1.2422520226772293|  -1.005138626316005|  0.7678303698801507|  1.2055487735580552|  0.8241122607946993| -1.0017585274326615| -1.0151598098050219| -0.5262854963785388|  0.5583096365796261| -1.0141377149996809| -0.6207360480246058| -0.3944379693289909|  -0.440255742856039|-0.41685269229053373| -0.8753876518453726| -0.4353179038404633|-0.9342296365459312|-0.8685588007717213|-0.03615707568521861|-0.05115361556176...| 0.0193661275360387|5.935347537916635...|3.029046785007847...|-1.72555959537276...|-9.61938881850700...|2.541979209091311...|        0|\n",
            "| 0.0|  1.3144597241754294|0.033632216205806524|-1.4716789993681665|   0.699712025609965| -1.0296112714356123| -1.0431067833706447|   0.321176680555698|  1.1648078006628906|  0.3915180016281885| 0.38518815608348334|-0.09156690387027092|  1.6911655104744363|  0.4023381491727298| -0.5143679736595718|-0.20406026968914467| -0.3983420967318009| -0.6718774050919794|  0.4817019180992081|-0.25654044020037975| 0.4105013049522454|0.47979241760104885|  0.5291757165845168|-0.05115361556176...| 0.0193661275360387| 0.46105243367582865|-0.08310894052541584|  -0.629933288954123| -1.2711091996936588| -0.3337440409428129|        0|\n",
            "| 0.0| 0.13976380278386424| -1.2187267277987583| 1.5451475884356092| -1.4580258058202509| -0.2550235968359417|-0.20766671228472083|-0.40092530363888723| -0.5548934958146465| -2.5004610253096886| -2.4824809392794993|-0.47194567231500534|  2.7107357969797654| -2.4387077269673627|  0.5493127699907686|  1.0197963708527238|  0.7193551332478824|  0.8467536266224355| -1.6108800076759349|-0.07776297656029622|-1.7170128972127583|-1.5944467436172893|  0.4263879361718377|-0.05115361556176...| 0.0193661275360387|  0.6281176146763021|-0.08310894052541584| -0.9213543971063618| -1.2711091996936588| -0.3337440409428129|        0|\n",
            "+----+--------------------+--------------------+-------------------+--------------------+--------------------+--------------------+--------------------+--------------------+--------------------+--------------------+--------------------+--------------------+--------------------+--------------------+--------------------+--------------------+--------------------+--------------------+--------------------+-------------------+-------------------+--------------------+--------------------+-------------------+--------------------+--------------------+--------------------+--------------------+--------------------+---------+\n",
            "only showing top 20 rows\n",
            "\n"
          ]
        }
      ]
    },
    {
      "cell_type": "markdown",
      "source": [
        "### Information of Data Features"
      ],
      "metadata": {
        "id": "-fFlcG32GyPc"
      }
    },
    {
      "cell_type": "code",
      "source": [
        "flight_sp.printSchema()"
      ],
      "metadata": {
        "colab": {
          "base_uri": "https://localhost:8080/"
        },
        "id": "MULPh9_tGZm3",
        "outputId": "f2746015-7a89-40f2-854f-7561551c5526"
      },
      "execution_count": 17,
      "outputs": [
        {
          "output_type": "stream",
          "name": "stdout",
          "text": [
            "root\n",
            " |-- YEAR: double (nullable = true)\n",
            " |-- MONTH: double (nullable = true)\n",
            " |-- DAY: double (nullable = true)\n",
            " |-- DAY_OF_WEEK: double (nullable = true)\n",
            " |-- AIRLINE: double (nullable = true)\n",
            " |-- FLIGHT_NUMBER: double (nullable = true)\n",
            " |-- TAIL_NUMBER: double (nullable = true)\n",
            " |-- ORIGIN_AIRPORT: double (nullable = true)\n",
            " |-- DESTINATION_AIRPORT: double (nullable = true)\n",
            " |-- SCHEDULED_DEPARTURE: double (nullable = true)\n",
            " |-- DEPARTURE_TIME: double (nullable = true)\n",
            " |-- DEPARTURE_DELAY: double (nullable = true)\n",
            " |-- TAXI_OUT: double (nullable = true)\n",
            " |-- WHEELS_OFF: double (nullable = true)\n",
            " |-- SCHEDULED_TIME: double (nullable = true)\n",
            " |-- ELAPSED_TIME: double (nullable = true)\n",
            " |-- AIR_TIME: double (nullable = true)\n",
            " |-- DISTANCE: double (nullable = true)\n",
            " |-- WHEELS_ON: double (nullable = true)\n",
            " |-- TAXI_IN: double (nullable = true)\n",
            " |-- SCHEDULED_ARRIVAL: double (nullable = true)\n",
            " |-- ARRIVAL_TIME: double (nullable = true)\n",
            " |-- ARRIVAL_DELAY: double (nullable = true)\n",
            " |-- DIVERTED: double (nullable = true)\n",
            " |-- CANCELLATION_REASON: double (nullable = true)\n",
            " |-- AIR_SYSTEM_DELAY: double (nullable = true)\n",
            " |-- SECURITY_DELAY: double (nullable = true)\n",
            " |-- AIRLINE_DELAY: double (nullable = true)\n",
            " |-- LATE_AIRCRAFT_DELAY: double (nullable = true)\n",
            " |-- WEATHER_DELAY: double (nullable = true)\n",
            " |-- CANCELLED: long (nullable = true)\n",
            "\n"
          ]
        }
      ]
    },
    {
      "cell_type": "code",
      "source": [
        "feature_columns = [col for col in flight_sp.columns]\n",
        "print(feature_columns)"
      ],
      "metadata": {
        "colab": {
          "base_uri": "https://localhost:8080/"
        },
        "id": "QFflk1lBGk8t",
        "outputId": "213288a3-89d9-4778-c195-857efd9b8ea5"
      },
      "execution_count": 91,
      "outputs": [
        {
          "output_type": "stream",
          "name": "stdout",
          "text": [
            "['YEAR', 'MONTH', 'DAY', 'DAY_OF_WEEK', 'AIRLINE', 'FLIGHT_NUMBER', 'TAIL_NUMBER', 'ORIGIN_AIRPORT', 'DESTINATION_AIRPORT', 'SCHEDULED_DEPARTURE', 'DEPARTURE_TIME', 'DEPARTURE_DELAY', 'TAXI_OUT', 'WHEELS_OFF', 'SCHEDULED_TIME', 'ELAPSED_TIME', 'AIR_TIME', 'DISTANCE', 'WHEELS_ON', 'TAXI_IN', 'SCHEDULED_ARRIVAL', 'ARRIVAL_TIME', 'ARRIVAL_DELAY', 'DIVERTED', 'CANCELLATION_REASON', 'AIR_SYSTEM_DELAY', 'SECURITY_DELAY', 'AIRLINE_DELAY', 'LATE_AIRCRAFT_DELAY', 'WEATHER_DELAY', 'CANCELLED']\n"
          ]
        }
      ]
    },
    {
      "cell_type": "code",
      "source": [
        "vctflight = VectorAssembler(inputCols = feature_columns, outputCol=\"features\")\n",
        "vctflight.transform(flight_sp).select(\"features\", \"CANCELLED\").limit(10).toPandas()"
      ],
      "metadata": {
        "colab": {
          "base_uri": "https://localhost:8080/",
          "height": 363
        },
        "id": "evsNWCMDGk_D",
        "outputId": "3c7e2fa3-5836-4e04-f954-e8bdd063bc90"
      },
      "execution_count": 92,
      "outputs": [
        {
          "output_type": "execute_result",
          "data": {
            "text/plain": [
              "                                            features  CANCELLED\n",
              "0  [0.0, 1.0207857438275383, -0.8771742885247861,...          0\n",
              "1  [0.0, -0.7412581382598097, -1.1048759147074343...          0\n",
              "2  [0.0, -0.44758415791191836, 0.602886281662427,...          0\n",
              "3  [0.0, 1.3144597241754294, 0.37518465547977875,...          0\n",
              "4  [0.0, -0.44758415791191836, 0.8305879078450751...          0\n",
              "5  [0.0, -0.44758415791191836, 0.602886281662427,...          0\n",
              "6  [0.0, -1.6222800793034837, 1.0582895340277232,...          0\n",
              "7  [0.0, -0.15391017756402706, 1.2859911602103713...          0\n",
              "8  [0.0, 1.3144597241754294, -1.3325775408900824,...          0\n",
              "9  [0.0, -1.6222800793034837, 0.602886281662427, ...          0"
            ],
            "text/html": [
              "\n",
              "  <div id=\"df-ed81cd5a-ee83-4054-9b2f-32cb70a6b8a0\">\n",
              "    <div class=\"colab-df-container\">\n",
              "      <div>\n",
              "<style scoped>\n",
              "    .dataframe tbody tr th:only-of-type {\n",
              "        vertical-align: middle;\n",
              "    }\n",
              "\n",
              "    .dataframe tbody tr th {\n",
              "        vertical-align: top;\n",
              "    }\n",
              "\n",
              "    .dataframe thead th {\n",
              "        text-align: right;\n",
              "    }\n",
              "</style>\n",
              "<table border=\"1\" class=\"dataframe\">\n",
              "  <thead>\n",
              "    <tr style=\"text-align: right;\">\n",
              "      <th></th>\n",
              "      <th>features</th>\n",
              "      <th>CANCELLED</th>\n",
              "    </tr>\n",
              "  </thead>\n",
              "  <tbody>\n",
              "    <tr>\n",
              "      <th>0</th>\n",
              "      <td>[0.0, 1.0207857438275383, -0.8771742885247861,...</td>\n",
              "      <td>0</td>\n",
              "    </tr>\n",
              "    <tr>\n",
              "      <th>1</th>\n",
              "      <td>[0.0, -0.7412581382598097, -1.1048759147074343...</td>\n",
              "      <td>0</td>\n",
              "    </tr>\n",
              "    <tr>\n",
              "      <th>2</th>\n",
              "      <td>[0.0, -0.44758415791191836, 0.602886281662427,...</td>\n",
              "      <td>0</td>\n",
              "    </tr>\n",
              "    <tr>\n",
              "      <th>3</th>\n",
              "      <td>[0.0, 1.3144597241754294, 0.37518465547977875,...</td>\n",
              "      <td>0</td>\n",
              "    </tr>\n",
              "    <tr>\n",
              "      <th>4</th>\n",
              "      <td>[0.0, -0.44758415791191836, 0.8305879078450751...</td>\n",
              "      <td>0</td>\n",
              "    </tr>\n",
              "    <tr>\n",
              "      <th>5</th>\n",
              "      <td>[0.0, -0.44758415791191836, 0.602886281662427,...</td>\n",
              "      <td>0</td>\n",
              "    </tr>\n",
              "    <tr>\n",
              "      <th>6</th>\n",
              "      <td>[0.0, -1.6222800793034837, 1.0582895340277232,...</td>\n",
              "      <td>0</td>\n",
              "    </tr>\n",
              "    <tr>\n",
              "      <th>7</th>\n",
              "      <td>[0.0, -0.15391017756402706, 1.2859911602103713...</td>\n",
              "      <td>0</td>\n",
              "    </tr>\n",
              "    <tr>\n",
              "      <th>8</th>\n",
              "      <td>[0.0, 1.3144597241754294, -1.3325775408900824,...</td>\n",
              "      <td>0</td>\n",
              "    </tr>\n",
              "    <tr>\n",
              "      <th>9</th>\n",
              "      <td>[0.0, -1.6222800793034837, 0.602886281662427, ...</td>\n",
              "      <td>0</td>\n",
              "    </tr>\n",
              "  </tbody>\n",
              "</table>\n",
              "</div>\n",
              "      <button class=\"colab-df-convert\" onclick=\"convertToInteractive('df-ed81cd5a-ee83-4054-9b2f-32cb70a6b8a0')\"\n",
              "              title=\"Convert this dataframe to an interactive table.\"\n",
              "              style=\"display:none;\">\n",
              "        \n",
              "  <svg xmlns=\"http://www.w3.org/2000/svg\" height=\"24px\"viewBox=\"0 0 24 24\"\n",
              "       width=\"24px\">\n",
              "    <path d=\"M0 0h24v24H0V0z\" fill=\"none\"/>\n",
              "    <path d=\"M18.56 5.44l.94 2.06.94-2.06 2.06-.94-2.06-.94-.94-2.06-.94 2.06-2.06.94zm-11 1L8.5 8.5l.94-2.06 2.06-.94-2.06-.94L8.5 2.5l-.94 2.06-2.06.94zm10 10l.94 2.06.94-2.06 2.06-.94-2.06-.94-.94-2.06-.94 2.06-2.06.94z\"/><path d=\"M17.41 7.96l-1.37-1.37c-.4-.4-.92-.59-1.43-.59-.52 0-1.04.2-1.43.59L10.3 9.45l-7.72 7.72c-.78.78-.78 2.05 0 2.83L4 21.41c.39.39.9.59 1.41.59.51 0 1.02-.2 1.41-.59l7.78-7.78 2.81-2.81c.8-.78.8-2.07 0-2.86zM5.41 20L4 18.59l7.72-7.72 1.47 1.35L5.41 20z\"/>\n",
              "  </svg>\n",
              "      </button>\n",
              "      \n",
              "  <style>\n",
              "    .colab-df-container {\n",
              "      display:flex;\n",
              "      flex-wrap:wrap;\n",
              "      gap: 12px;\n",
              "    }\n",
              "\n",
              "    .colab-df-convert {\n",
              "      background-color: #E8F0FE;\n",
              "      border: none;\n",
              "      border-radius: 50%;\n",
              "      cursor: pointer;\n",
              "      display: none;\n",
              "      fill: #1967D2;\n",
              "      height: 32px;\n",
              "      padding: 0 0 0 0;\n",
              "      width: 32px;\n",
              "    }\n",
              "\n",
              "    .colab-df-convert:hover {\n",
              "      background-color: #E2EBFA;\n",
              "      box-shadow: 0px 1px 2px rgba(60, 64, 67, 0.3), 0px 1px 3px 1px rgba(60, 64, 67, 0.15);\n",
              "      fill: #174EA6;\n",
              "    }\n",
              "\n",
              "    [theme=dark] .colab-df-convert {\n",
              "      background-color: #3B4455;\n",
              "      fill: #D2E3FC;\n",
              "    }\n",
              "\n",
              "    [theme=dark] .colab-df-convert:hover {\n",
              "      background-color: #434B5C;\n",
              "      box-shadow: 0px 1px 3px 1px rgba(0, 0, 0, 0.15);\n",
              "      filter: drop-shadow(0px 1px 2px rgba(0, 0, 0, 0.3));\n",
              "      fill: #FFFFFF;\n",
              "    }\n",
              "  </style>\n",
              "\n",
              "      <script>\n",
              "        const buttonEl =\n",
              "          document.querySelector('#df-ed81cd5a-ee83-4054-9b2f-32cb70a6b8a0 button.colab-df-convert');\n",
              "        buttonEl.style.display =\n",
              "          google.colab.kernel.accessAllowed ? 'block' : 'none';\n",
              "\n",
              "        async function convertToInteractive(key) {\n",
              "          const element = document.querySelector('#df-ed81cd5a-ee83-4054-9b2f-32cb70a6b8a0');\n",
              "          const dataTable =\n",
              "            await google.colab.kernel.invokeFunction('convertToInteractive',\n",
              "                                                     [key], {});\n",
              "          if (!dataTable) return;\n",
              "\n",
              "          const docLinkHtml = 'Like what you see? Visit the ' +\n",
              "            '<a target=\"_blank\" href=https://colab.research.google.com/notebooks/data_table.ipynb>data table notebook</a>'\n",
              "            + ' to learn more about interactive tables.';\n",
              "          element.innerHTML = '';\n",
              "          dataTable['output_type'] = 'display_data';\n",
              "          await google.colab.output.renderOutput(dataTable, element);\n",
              "          const docLink = document.createElement('div');\n",
              "          docLink.innerHTML = docLinkHtml;\n",
              "          element.appendChild(docLink);\n",
              "        }\n",
              "      </script>\n",
              "    </div>\n",
              "  </div>\n",
              "  "
            ]
          },
          "metadata": {},
          "execution_count": 92
        }
      ]
    },
    {
      "cell_type": "code",
      "source": [
        "trflight, tsflight = flight_sp.randomSplit(weights=[0.7, 0.3], seed = 1)\n",
        "tsflight.toPandas()['CANCELLED'].value_counts()"
      ],
      "metadata": {
        "colab": {
          "base_uri": "https://localhost:8080/"
        },
        "id": "fRTZVvqASfx-",
        "outputId": "99767f10-722b-4e13-f6f7-bda09c50ccfe"
      },
      "execution_count": 93,
      "outputs": [
        {
          "output_type": "execute_result",
          "data": {
            "text/plain": [
              "0    171744\n",
              "1      2622\n",
              "Name: CANCELLED, dtype: int64"
            ]
          },
          "metadata": {},
          "execution_count": 93
        }
      ]
    },
    {
      "cell_type": "code",
      "source": [
        "def model_evaluate():\n",
        "  eac = MulticlassClassificationEvaluator(labelCol=\"CANCELLED\", predictionCol=\"prediction\", metricName=\"accuracy\")\n",
        "  ef1 = MulticlassClassificationEvaluator(labelCol=\"CANCELLED\", predictionCol=\"prediction\", metricName=\"f1\")\n",
        "  return eac, ef1"
      ],
      "metadata": {
        "id": "99okJ6FzTD-z"
      },
      "execution_count": 94,
      "outputs": []
    },
    {
      "cell_type": "code",
      "source": [
        "def getclf(lbl):\n",
        "  m1=LogisticRegression(featuresCol='features',labelCol=lbl)\n",
        "  m2=GBTClassifier(featuresCol='features',labelCol=lbl)\n",
        "  m3=RandomForestClassifier(featuresCol='features',labelCol=lbl)\n",
        "  return m1,m2,m3"
      ],
      "metadata": {
        "id": "P7Gx1dvFpmBw"
      },
      "execution_count": 95,
      "outputs": []
    },
    {
      "cell_type": "code",
      "source": [
        "def getpip(vct,trd,mdl):\n",
        "  ppln = Pipeline()\n",
        "  ppln.setStages([vct, mdl])\n",
        "  mdpip = ppln.fit(trd)\n",
        "  return mdpip"
      ],
      "metadata": {
        "id": "-didAOMprFs1"
      },
      "execution_count": 96,
      "outputs": []
    },
    {
      "cell_type": "code",
      "source": [
        "allclf=getclf(\"CANCELLED\")\n",
        "nms=[\"Logistic Regression\",\"GBT Classifier\",\"Random forest classifier\"]\n",
        "print(allclf[0])\n",
        "print(allclf[1])\n",
        "print(allclf[2])"
      ],
      "metadata": {
        "colab": {
          "base_uri": "https://localhost:8080/"
        },
        "id": "X7fg2D8pqVBP",
        "outputId": "d713e850-d341-4c9f-d38e-556da245b21d"
      },
      "execution_count": 97,
      "outputs": [
        {
          "output_type": "stream",
          "name": "stdout",
          "text": [
            "LogisticRegression_a6d9273b123c\n",
            "GBTClassifier_525c54e3ce9c\n",
            "RandomForestClassifier_8626c7976eaf\n"
          ]
        }
      ]
    },
    {
      "cell_type": "code",
      "source": [
        "allmet=[[],[],[],[]]\n",
        "print(\"=======================================================\")\n",
        "for ac in range(len(allclf)):\n",
        "  print(\"Prediction using {} Model.\".format(nms[ac]))\n",
        "  t1 = datetime.datetime.now()\n",
        "  print('Start time({}):'.format(nms[ac]), t1.time()) \n",
        "  model=getpip(vctflight, trflight, allclf[ac])\n",
        "  eac, ef1=model_evaluate()\n",
        "  accuracyts = eac.evaluate(model.transform(tsflight))\n",
        "  accuracytr = eac.evaluate(model.transform(trflight))\n",
        "  f1score = ef1.evaluate(model.transform(tsflight))\n",
        "  t2 = datetime.datetime.now()\n",
        "  print('End time:({}):'.format(nms[ac]), t2.time())\n",
        "  delta = t2 - t1\n",
        "  print(\"=======================================================\")\n",
        "  allmet[0].append(accuracyts)\n",
        "  allmet[1].append(accuracytr)\n",
        "  allmet[2].append(f1score)\n",
        "  allmet[3].append(delta.total_seconds())"
      ],
      "metadata": {
        "colab": {
          "base_uri": "https://localhost:8080/"
        },
        "id": "Ao4ngGn9q9hG",
        "outputId": "56790e99-de35-48ec-960a-a4e44803f146"
      },
      "execution_count": 98,
      "outputs": [
        {
          "output_type": "stream",
          "name": "stdout",
          "text": [
            "=======================================================\n",
            "Prediction using Logistic Regression Model.\n",
            "Start time(Logistic Regression): 07:00:20.954733\n",
            "End time:(Logistic Regression): 07:00:53.002071\n",
            "=======================================================\n",
            "Prediction using GBT Classifier Model.\n",
            "Start time(GBT Classifier): 07:00:53.002276\n",
            "End time:(GBT Classifier): 07:02:04.372227\n",
            "=======================================================\n",
            "Prediction using Random forest classifier Model.\n",
            "Start time(Random forest classifier): 07:02:04.372459\n",
            "End time:(Random forest classifier): 07:02:34.642179\n",
            "=======================================================\n"
          ]
        }
      ]
    },
    {
      "cell_type": "code",
      "source": [
        "allmet"
      ],
      "metadata": {
        "colab": {
          "base_uri": "https://localhost:8080/"
        },
        "id": "zTi7kZyz13zn",
        "outputId": "9cebecbb-023f-49ec-f532-1839d0820a0d"
      },
      "execution_count": 99,
      "outputs": [
        {
          "output_type": "execute_result",
          "data": {
            "text/plain": [
              "[[1.0, 1.0, 1.0],\n",
              " [1.0, 1.0, 1.0],\n",
              " [1.0, 1.0, 1.0],\n",
              " [32.047338, 71.369951, 30.26972]]"
            ]
          },
          "metadata": {},
          "execution_count": 99
        }
      ]
    },
    {
      "cell_type": "code",
      "source": [
        "flgt_df=pandas.DataFrame({\n",
        "    \"Classifier\":nms,\n",
        "    \"Accuracy(Training)\":allmet[1],\n",
        "    \"Accuracy(Test)\":allmet[0],\n",
        "    \"F1-Score\":allmet[2],\n",
        "    \"Model Time\":allmet[3]\n",
        "})\n",
        "metsvz=flgt_df.columns.tolist()[1:]\n",
        "for m in metsvz:\n",
        "    flgt_df=flgt_df.sort_values(by=m,ascending=False)\n",
        "    mpl.figure(figsize=(6,4))\n",
        "    mpl.title(\"Complarison of {}\".format(m),fontsize=16)\n",
        "    mpl.barh(flgt_df['Classifier'],flgt_df[m],color=[\"#FC6C85\",\"#E2F516\",\"#EB5406\"])\n",
        "    mpl.xlabel(\"Classifier\",fontsize=13)\n",
        "    mpl.ylabel(\"{}\".format(m),fontsize=13)\n",
        "    for flgt_id, flgt_val in enumerate(flgt_df[m]):\n",
        "        mpl.text(flgt_val, flgt_id, str(flgt_val))\n",
        "    mpl.show()\n",
        "flgt_df.to_csv(\"Result_metrics.csv\")\n",
        "flgt_df"
      ],
      "metadata": {
        "colab": {
          "base_uri": "https://localhost:8080/",
          "height": 1000
        },
        "id": "5BmRQYCVyOBA",
        "outputId": "aea0b108-075b-44c1-ebd1-52cdb22762c1"
      },
      "execution_count": 101,
      "outputs": [
        {
          "output_type": "display_data",
          "data": {
            "text/plain": [
              "<Figure size 432x288 with 1 Axes>"
            ],
            "image/png": "[encoded data removed]"
          },
          "metadata": {
            "needs_background": "light"
          }
        },
        {
          "output_type": "display_data",
          "data": {
            "text/plain": [
              "<Figure size 432x288 with 1 Axes>"
            ],
            "image/png": "[encoded data removed]"
          },
          "metadata": {
            "needs_background": "light"
          }
        },
        {
          "output_type": "display_data",
          "data": {
            "text/plain": [
              "<Figure size 432x288 with 1 Axes>"
            ],
            "image/png": "[encoded data removed]"
          },
          "metadata": {
            "needs_background": "light"
          }
        },
        {
          "output_type": "display_data",
          "data": {
            "text/plain": [
              "<Figure size 432x288 with 1 Axes>"
            ],
            "image/png": "[encoded data removed]"
          },
          "metadata": {
            "needs_background": "light"
          }
        },
        {
          "output_type": "execute_result",
          "data": {
            "text/plain": [
              "                 Classifier  Accuracy(Training)  Accuracy(Test)  F1-Score  \\\n",
              "1            GBT Classifier                 1.0             1.0       1.0   \n",
              "0       Logistic Regression                 1.0             1.0       1.0   \n",
              "2  Random forest classifier                 1.0             1.0       1.0   \n",
              "\n",
              "   Model Time  \n",
              "1   71.369951  \n",
              "0   32.047338  \n",
              "2   30.269720  "
            ],
            "text/html": [
              "\n",
              "  <div id=\"df-550bca6c-9dfe-430d-9117-9215ded4700d\">\n",
              "    <div class=\"colab-df-container\">\n",
              "      <div>\n",
              "<style scoped>\n",
              "    .dataframe tbody tr th:only-of-type {\n",
              "        vertical-align: middle;\n",
              "    }\n",
              "\n",
              "    .dataframe tbody tr th {\n",
              "        vertical-align: top;\n",
              "    }\n",
              "\n",
              "    .dataframe thead th {\n",
              "        text-align: right;\n",
              "    }\n",
              "</style>\n",
              "<table border=\"1\" class=\"dataframe\">\n",
              "  <thead>\n",
              "    <tr style=\"text-align: right;\">\n",
              "      <th></th>\n",
              "      <th>Classifier</th>\n",
              "      <th>Accuracy(Training)</th>\n",
              "      <th>Accuracy(Test)</th>\n",
              "      <th>F1-Score</th>\n",
              "      <th>Model Time</th>\n",
              "    </tr>\n",
              "  </thead>\n",
              "  <tbody>\n",
              "    <tr>\n",
              "      <th>1</th>\n",
              "      <td>GBT Classifier</td>\n",
              "      <td>1.0</td>\n",
              "      <td>1.0</td>\n",
              "      <td>1.0</td>\n",
              "      <td>71.369951</td>\n",
              "    </tr>\n",
              "    <tr>\n",
              "      <th>0</th>\n",
              "      <td>Logistic Regression</td>\n",
              "      <td>1.0</td>\n",
              "      <td>1.0</td>\n",
              "      <td>1.0</td>\n",
              "      <td>32.047338</td>\n",
              "    </tr>\n",
              "    <tr>\n",
              "      <th>2</th>\n",
              "      <td>Random forest classifier</td>\n",
              "      <td>1.0</td>\n",
              "      <td>1.0</td>\n",
              "      <td>1.0</td>\n",
              "      <td>30.269720</td>\n",
              "    </tr>\n",
              "  </tbody>\n",
              "</table>\n",
              "</div>\n",
              "      <button class=\"colab-df-convert\" onclick=\"convertToInteractive('df-550bca6c-9dfe-430d-9117-9215ded4700d')\"\n",
              "              title=\"Convert this dataframe to an interactive table.\"\n",
              "              style=\"display:none;\">\n",
              "        \n",
              "  <svg xmlns=\"http://www.w3.org/2000/svg\" height=\"24px\"viewBox=\"0 0 24 24\"\n",
              "       width=\"24px\">\n",
              "    <path d=\"M0 0h24v24H0V0z\" fill=\"none\"/>\n",
              "    <path d=\"M18.56 5.44l.94 2.06.94-2.06 2.06-.94-2.06-.94-.94-2.06-.94 2.06-2.06.94zm-11 1L8.5 8.5l.94-2.06 2.06-.94-2.06-.94L8.5 2.5l-.94 2.06-2.06.94zm10 10l.94 2.06.94-2.06 2.06-.94-2.06-.94-.94-2.06-.94 2.06-2.06.94z\"/><path d=\"M17.41 7.96l-1.37-1.37c-.4-.4-.92-.59-1.43-.59-.52 0-1.04.2-1.43.59L10.3 9.45l-7.72 7.72c-.78.78-.78 2.05 0 2.83L4 21.41c.39.39.9.59 1.41.59.51 0 1.02-.2 1.41-.59l7.78-7.78 2.81-2.81c.8-.78.8-2.07 0-2.86zM5.41 20L4 18.59l7.72-7.72 1.47 1.35L5.41 20z\"/>\n",
              "  </svg>\n",
              "      </button>\n",
              "      \n",
              "  <style>\n",
              "    .colab-df-container {\n",
              "      display:flex;\n",
              "      flex-wrap:wrap;\n",
              "      gap: 12px;\n",
              "    }\n",
              "\n",
              "    .colab-df-convert {\n",
              "      background-color: #E8F0FE;\n",
              "      border: none;\n",
              "      border-radius: 50%;\n",
              "      cursor: pointer;\n",
              "      display: none;\n",
              "      fill: #1967D2;\n",
              "      height: 32px;\n",
              "      padding: 0 0 0 0;\n",
              "      width: 32px;\n",
              "    }\n",
              "\n",
              "    .colab-df-convert:hover {\n",
              "      background-color: #E2EBFA;\n",
              "      box-shadow: 0px 1px 2px rgba(60, 64, 67, 0.3), 0px 1px 3px 1px rgba(60, 64, 67, 0.15);\n",
              "      fill: #174EA6;\n",
              "    }\n",
              "\n",
              "    [theme=dark] .colab-df-convert {\n",
              "      background-color: #3B4455;\n",
              "      fill: #D2E3FC;\n",
              "    }\n",
              "\n",
              "    [theme=dark] .colab-df-convert:hover {\n",
              "      background-color: #434B5C;\n",
              "      box-shadow: 0px 1px 3px 1px rgba(0, 0, 0, 0.15);\n",
              "      filter: drop-shadow(0px 1px 2px rgba(0, 0, 0, 0.3));\n",
              "      fill: #FFFFFF;\n",
              "    }\n",
              "  </style>\n",
              "\n",
              "      <script>\n",
              "        const buttonEl =\n",
              "          document.querySelector('#df-550bca6c-9dfe-430d-9117-9215ded4700d button.colab-df-convert');\n",
              "        buttonEl.style.display =\n",
              "          google.colab.kernel.accessAllowed ? 'block' : 'none';\n",
              "\n",
              "        async function convertToInteractive(key) {\n",
              "          const element = document.querySelector('#df-550bca6c-9dfe-430d-9117-9215ded4700d');\n",
              "          const dataTable =\n",
              "            await google.colab.kernel.invokeFunction('convertToInteractive',\n",
              "                                                     [key], {});\n",
              "          if (!dataTable) return;\n",
              "\n",
              "          const docLinkHtml = 'Like what you see? Visit the ' +\n",
              "            '<a target=\"_blank\" href=https://colab.research.google.com/notebooks/data_table.ipynb>data table notebook</a>'\n",
              "            + ' to learn more about interactive tables.';\n",
              "          element.innerHTML = '';\n",
              "          dataTable['output_type'] = 'display_data';\n",
              "          await google.colab.output.renderOutput(dataTable, element);\n",
              "          const docLink = document.createElement('div');\n",
              "          docLink.innerHTML = docLinkHtml;\n",
              "          element.appendChild(docLink);\n",
              "        }\n",
              "      </script>\n",
              "    </div>\n",
              "  </div>\n",
              "  "
            ]
          },
          "metadata": {},
          "execution_count": 101
        }
      ]
    },
    {
      "cell_type": "code",
      "source": [],
      "metadata": {
        "id": "-cB-2LMi5LIQ"
      },
      "execution_count": null,
      "outputs": []
    }
  ]
}